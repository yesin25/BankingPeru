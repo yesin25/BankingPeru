{
  "nbformat": 4,
  "nbformat_minor": 0,
  "metadata": {
    "colab": {
      "provenance": [],
      "authorship_tag": "ABX9TyNmA7KgT2nsngXkzk8UiHSI",
      "include_colab_link": true
    },
    "kernelspec": {
      "display_name": "Python 3",
      "name": "python3"
    }
  },
  "cells": [
    {
      "cell_type": "markdown",
      "metadata": {
        "id": "view-in-github",
        "colab_type": "text"
      },
      "source": [
        "<a href=\"https://colab.research.google.com/github/yesin25/BankingPeru/blob/main/Marketing_Bancario.ipynb\" target=\"_parent\"><img src=\"https://colab.research.google.com/assets/colab-badge.svg\" alt=\"Open In Colab\"/></a>"
      ]
    },
    {
      "cell_type": "markdown",
      "metadata": {
        "id": "Z7NMGq0xLLuU"
      },
      "source": [
        "[Ciencia de datos Randomforest python](https://www.cienciadedatos.net/documentos/py08_random_forest_python.html)"
      ]
    },
    {
      "cell_type": "markdown",
      "metadata": {
        "id": "QnIuLTEmbWx1"
      },
      "source": [
        "###  1.Librerias a Utilizar"
      ]
    },
    {
      "cell_type": "code",
      "metadata": {
        "id": "fX4xtL5rXWTG"
      },
      "source": [
        "# Primer Curso de ML\n",
        "#Importar las librerías necesarias en Python.\n",
        "import pandas as pd ## Manejo de dataframes o set de datos, trabaja lectura y conexiones de info\n",
        "\n",
        "\n",
        "import matplotlib.pyplot as plt2 ## Todo lo referente a gráficas y demás.\n",
        "import matplotlib as plt\n",
        "%matplotlib inline\n",
        "import numpy as np ## Todo lo referente a trabajar con vectores y matrices\n",
        "from scipy import stats ## Herramientas y algoritmos matemáticos para python\n",
        "import seaborn as sns # Se basa en Matplotlib y la complementa en el tema de graficos y demás.\n",
        "import warnings\n",
        "warnings.filterwarnings(\"ignore\")"
      ],
      "execution_count": null,
      "outputs": []
    },
    {
      "cell_type": "code",
      "metadata": {
        "colab": {
          "base_uri": "https://localhost:8080/"
        },
        "id": "pb8Vmu4abeRI",
        "outputId": "e7127b16-0812-4e54-f8da-10d1a2dee0cd"
      },
      "source": [
        "from google.colab import drive\n",
        "drive.mount('/content/drive')"
      ],
      "execution_count": null,
      "outputs": [
        {
          "output_type": "stream",
          "text": [
            "Mounted at /content/drive\n"
          ],
          "name": "stdout"
        }
      ]
    },
    {
      "cell_type": "markdown",
      "metadata": {
        "id": "IERQ4DQecaa1"
      },
      "source": [
        "### 2.Lectura de los datos"
      ]
    },
    {
      "cell_type": "code",
      "metadata": {
        "id": "x-XxXWzOcSEs"
      },
      "source": [
        "# Leemos la data de desarrollo de modelos\n",
        "desarrll = pd.read_csv(\"/content/drive/MyDrive/Mis proyectos/Course Machine learning advanced (DMC)/Examen competencia Kaggle de la clase 1/AdquisicionHIP_Train.csv\")\n",
        "# Leer el dataset en un dataframe usando pandas"
      ],
      "execution_count": null,
      "outputs": []
    },
    {
      "cell_type": "code",
      "metadata": {
        "colab": {
          "base_uri": "https://localhost:8080/"
        },
        "id": "vgbDeaUv5LiX",
        "outputId": "74835956-f9c8-48fd-fecf-1f96684285be"
      },
      "source": [
        "#Dimension\n",
        "desarrll.shape"
      ],
      "execution_count": null,
      "outputs": [
        {
          "output_type": "execute_result",
          "data": {
            "text/plain": [
              "(8486, 24)"
            ]
          },
          "metadata": {
            "tags": []
          },
          "execution_count": 4
        }
      ]
    },
    {
      "cell_type": "code",
      "metadata": {
        "colab": {
          "base_uri": "https://localhost:8080/",
          "height": 224
        },
        "id": "5Jg3C82n4_ea",
        "outputId": "6646870e-704e-44eb-a13c-6338d1e2f8f7"
      },
      "source": [
        "desarrll.head()"
      ],
      "execution_count": null,
      "outputs": [
        {
          "output_type": "execute_result",
          "data": {
            "text/html": [
              "<div>\n",
              "<style scoped>\n",
              "    .dataframe tbody tr th:only-of-type {\n",
              "        vertical-align: middle;\n",
              "    }\n",
              "\n",
              "    .dataframe tbody tr th {\n",
              "        vertical-align: top;\n",
              "    }\n",
              "\n",
              "    .dataframe thead th {\n",
              "        text-align: right;\n",
              "    }\n",
              "</style>\n",
              "<table border=\"1\" class=\"dataframe\">\n",
              "  <thead>\n",
              "    <tr style=\"text-align: right;\">\n",
              "      <th></th>\n",
              "      <th>ID</th>\n",
              "      <th>GENERO</th>\n",
              "      <th>ESTADO_CIVIL</th>\n",
              "      <th>EDAD</th>\n",
              "      <th>GRADO_INSTRUCCION</th>\n",
              "      <th>CONDICION_VIVIENDA</th>\n",
              "      <th>NUMERO_DEPENDIENTES</th>\n",
              "      <th>DPTO_DOMICILIO</th>\n",
              "      <th>ANTIGUEDAD_DOMICILIO</th>\n",
              "      <th>TIPO_TRABAJADOR</th>\n",
              "      <th>TIENE_VEHIVULO</th>\n",
              "      <th>LIQUIDEZDISPONIBLE</th>\n",
              "      <th>ACTIVIDAD_ECONOMICA</th>\n",
              "      <th>DEUDAS_NEGATIVAS</th>\n",
              "      <th>T_D_AC_VEN_MA30_3M</th>\n",
              "      <th>RT_N_ENT_M0_3M</th>\n",
              "      <th>ANTIGUEDAD_LABORAL</th>\n",
              "      <th>UTILIDADOPERATIVA</th>\n",
              "      <th>VENTASNETAS</th>\n",
              "      <th>ENDEUDAMIENTOPATRIMONIAL</th>\n",
              "      <th>MARGENOPERATIVO</th>\n",
              "      <th>CICLOFINANCIERO</th>\n",
              "      <th>SEGMENTO</th>\n",
              "      <th>TARGET</th>\n",
              "    </tr>\n",
              "  </thead>\n",
              "  <tbody>\n",
              "    <tr>\n",
              "      <th>0</th>\n",
              "      <td>1</td>\n",
              "      <td>F</td>\n",
              "      <td>S</td>\n",
              "      <td>38</td>\n",
              "      <td>MEDIO/SECUNDARIA</td>\n",
              "      <td>PROPIO</td>\n",
              "      <td>2</td>\n",
              "      <td>LAMBAYEQUE</td>\n",
              "      <td>16</td>\n",
              "      <td>INDEPENDIENTE</td>\n",
              "      <td>False</td>\n",
              "      <td>1139.00</td>\n",
              "      <td>BODEGAS</td>\n",
              "      <td>0</td>\n",
              "      <td>0</td>\n",
              "      <td>0</td>\n",
              "      <td>16</td>\n",
              "      <td>1895.00</td>\n",
              "      <td>7960.0</td>\n",
              "      <td>0.22</td>\n",
              "      <td>26.91</td>\n",
              "      <td>59.67</td>\n",
              "      <td>2</td>\n",
              "      <td>0</td>\n",
              "    </tr>\n",
              "    <tr>\n",
              "      <th>1</th>\n",
              "      <td>2</td>\n",
              "      <td>F</td>\n",
              "      <td>S</td>\n",
              "      <td>39</td>\n",
              "      <td>MEDIO/SECUNDARIA</td>\n",
              "      <td>PROPIO</td>\n",
              "      <td>2</td>\n",
              "      <td>LIMA</td>\n",
              "      <td>4</td>\n",
              "      <td>INDEPENDIENTE</td>\n",
              "      <td>False</td>\n",
              "      <td>2877.37</td>\n",
              "      <td>VENTA DE COMIDAS</td>\n",
              "      <td>0</td>\n",
              "      <td>0</td>\n",
              "      <td>0</td>\n",
              "      <td>5</td>\n",
              "      <td>3957.37</td>\n",
              "      <td>1480.0</td>\n",
              "      <td>0.22</td>\n",
              "      <td>29.98</td>\n",
              "      <td>65.21</td>\n",
              "      <td>3</td>\n",
              "      <td>0</td>\n",
              "    </tr>\n",
              "    <tr>\n",
              "      <th>2</th>\n",
              "      <td>3</td>\n",
              "      <td>M</td>\n",
              "      <td>C</td>\n",
              "      <td>46</td>\n",
              "      <td>PRIMARIA</td>\n",
              "      <td>PROPIO</td>\n",
              "      <td>3</td>\n",
              "      <td>CAJAMARCA</td>\n",
              "      <td>26</td>\n",
              "      <td>INDEPENDIENTE</td>\n",
              "      <td>False</td>\n",
              "      <td>888.00</td>\n",
              "      <td>OTRAS ACTIVIDADES</td>\n",
              "      <td>0</td>\n",
              "      <td>0</td>\n",
              "      <td>0</td>\n",
              "      <td>5</td>\n",
              "      <td>1338.00</td>\n",
              "      <td>2880.0</td>\n",
              "      <td>0.22</td>\n",
              "      <td>24.77</td>\n",
              "      <td>30.00</td>\n",
              "      <td>1</td>\n",
              "      <td>0</td>\n",
              "    </tr>\n",
              "    <tr>\n",
              "      <th>3</th>\n",
              "      <td>4</td>\n",
              "      <td>F</td>\n",
              "      <td>S</td>\n",
              "      <td>23</td>\n",
              "      <td>TECNICO</td>\n",
              "      <td>DE FAMILIAR</td>\n",
              "      <td>0</td>\n",
              "      <td>LA LIBERTAD</td>\n",
              "      <td>16</td>\n",
              "      <td>INDEPENDIENTE</td>\n",
              "      <td>False</td>\n",
              "      <td>2373.00</td>\n",
              "      <td>OTRAS ACTIVIDADES</td>\n",
              "      <td>0</td>\n",
              "      <td>0</td>\n",
              "      <td>0</td>\n",
              "      <td>5</td>\n",
              "      <td>3350.00</td>\n",
              "      <td>1800.0</td>\n",
              "      <td>0.22</td>\n",
              "      <td>72.82</td>\n",
              "      <td>25.80</td>\n",
              "      <td>3</td>\n",
              "      <td>0</td>\n",
              "    </tr>\n",
              "    <tr>\n",
              "      <th>4</th>\n",
              "      <td>5</td>\n",
              "      <td>F</td>\n",
              "      <td>C</td>\n",
              "      <td>34</td>\n",
              "      <td>MEDIO/SECUNDARIA</td>\n",
              "      <td>DE FAMILIAR</td>\n",
              "      <td>3</td>\n",
              "      <td>LIMA</td>\n",
              "      <td>16</td>\n",
              "      <td>INDEPENDIENTE</td>\n",
              "      <td>False</td>\n",
              "      <td>1353.06</td>\n",
              "      <td>BODEGAS</td>\n",
              "      <td>0</td>\n",
              "      <td>0</td>\n",
              "      <td>0</td>\n",
              "      <td>5</td>\n",
              "      <td>2003.60</td>\n",
              "      <td>82800.0</td>\n",
              "      <td>0.22</td>\n",
              "      <td>17.27</td>\n",
              "      <td>8.77</td>\n",
              "      <td>3</td>\n",
              "      <td>0</td>\n",
              "    </tr>\n",
              "  </tbody>\n",
              "</table>\n",
              "</div>"
            ],
            "text/plain": [
              "   ID GENERO ESTADO_CIVIL  ...  CICLOFINANCIERO SEGMENTO TARGET\n",
              "0   1      F            S  ...            59.67        2      0\n",
              "1   2      F            S  ...            65.21        3      0\n",
              "2   3      M            C  ...            30.00        1      0\n",
              "3   4      F            S  ...            25.80        3      0\n",
              "4   5      F            C  ...             8.77        3      0\n",
              "\n",
              "[5 rows x 24 columns]"
            ]
          },
          "metadata": {
            "tags": []
          },
          "execution_count": 5
        }
      ]
    },
    {
      "cell_type": "code",
      "metadata": {
        "colab": {
          "base_uri": "https://localhost:8080/"
        },
        "id": "EV-bOQnI5ok3",
        "outputId": "626e8b2b-9bc0-4d4e-dd0d-2d3a2ca99b22"
      },
      "source": [
        "#Leer los primeros registros.\n",
        "#train.head(3) # Puedes visualizar la cantidad de registro que requieras\n",
        "desarrll.columns"
      ],
      "execution_count": null,
      "outputs": [
        {
          "output_type": "execute_result",
          "data": {
            "text/plain": [
              "Index(['ID', 'GENERO', 'ESTADO_CIVIL', 'EDAD', 'GRADO_INSTRUCCION',\n",
              "       'CONDICION_VIVIENDA', 'NUMERO_DEPENDIENTES', 'DPTO_DOMICILIO',\n",
              "       'ANTIGUEDAD_DOMICILIO', 'TIPO_TRABAJADOR', 'TIENE_VEHIVULO',\n",
              "       'LIQUIDEZDISPONIBLE', 'ACTIVIDAD_ECONOMICA', 'DEUDAS_NEGATIVAS',\n",
              "       'T_D_AC_VEN_MA30_3M', 'RT_N_ENT_M0_3M', 'ANTIGUEDAD_LABORAL',\n",
              "       'UTILIDADOPERATIVA', 'VENTASNETAS', 'ENDEUDAMIENTOPATRIMONIAL',\n",
              "       'MARGENOPERATIVO', 'CICLOFINANCIERO', 'SEGMENTO', 'TARGET'],\n",
              "      dtype='object')"
            ]
          },
          "metadata": {
            "tags": []
          },
          "execution_count": 6
        }
      ]
    },
    {
      "cell_type": "code",
      "metadata": {
        "colab": {
          "base_uri": "https://localhost:8080/"
        },
        "id": "6Tjvm6zU5s1X",
        "outputId": "2a0de81f-cfea-4b9d-f488-f3601d180c1e"
      },
      "source": [
        "# Podemos ver la estructura de los datos\n",
        "print('Estructura de los datos')\n",
        "[(col, type(desarrll[col][0])) for col in desarrll.columns]"
      ],
      "execution_count": null,
      "outputs": [
        {
          "output_type": "stream",
          "text": [
            "Estructura de los datos\n"
          ],
          "name": "stdout"
        },
        {
          "output_type": "execute_result",
          "data": {
            "text/plain": [
              "[('ID', numpy.int64),\n",
              " ('GENERO', str),\n",
              " ('ESTADO_CIVIL', str),\n",
              " ('EDAD', numpy.int64),\n",
              " ('GRADO_INSTRUCCION', str),\n",
              " ('CONDICION_VIVIENDA', str),\n",
              " ('NUMERO_DEPENDIENTES', numpy.int64),\n",
              " ('DPTO_DOMICILIO', str),\n",
              " ('ANTIGUEDAD_DOMICILIO', numpy.int64),\n",
              " ('TIPO_TRABAJADOR', str),\n",
              " ('TIENE_VEHIVULO', numpy.bool_),\n",
              " ('LIQUIDEZDISPONIBLE', numpy.float64),\n",
              " ('ACTIVIDAD_ECONOMICA', str),\n",
              " ('DEUDAS_NEGATIVAS', numpy.int64),\n",
              " ('T_D_AC_VEN_MA30_3M', numpy.int64),\n",
              " ('RT_N_ENT_M0_3M', numpy.int64),\n",
              " ('ANTIGUEDAD_LABORAL', numpy.int64),\n",
              " ('UTILIDADOPERATIVA', numpy.float64),\n",
              " ('VENTASNETAS', numpy.float64),\n",
              " ('ENDEUDAMIENTOPATRIMONIAL', numpy.float64),\n",
              " ('MARGENOPERATIVO', numpy.float64),\n",
              " ('CICLOFINANCIERO', numpy.float64),\n",
              " ('SEGMENTO', numpy.int64),\n",
              " ('TARGET', numpy.int64)]"
            ]
          },
          "metadata": {
            "tags": []
          },
          "execution_count": 7
        }
      ]
    },
    {
      "cell_type": "code",
      "metadata": {
        "colab": {
          "base_uri": "https://localhost:8080/"
        },
        "id": "jMdov5yDqz3m",
        "outputId": "50757703-a343-4320-91ee-af56303b84de"
      },
      "source": [
        "desarrll.dtypes"
      ],
      "execution_count": null,
      "outputs": [
        {
          "output_type": "execute_result",
          "data": {
            "text/plain": [
              "ID                            int64\n",
              "GENERO                       object\n",
              "ESTADO_CIVIL                 object\n",
              "EDAD                          int64\n",
              "GRADO_INSTRUCCION            object\n",
              "CONDICION_VIVIENDA           object\n",
              "NUMERO_DEPENDIENTES           int64\n",
              "DPTO_DOMICILIO               object\n",
              "ANTIGUEDAD_DOMICILIO          int64\n",
              "TIPO_TRABAJADOR              object\n",
              "TIENE_VEHIVULO                 bool\n",
              "LIQUIDEZDISPONIBLE          float64\n",
              "ACTIVIDAD_ECONOMICA          object\n",
              "DEUDAS_NEGATIVAS              int64\n",
              "T_D_AC_VEN_MA30_3M            int64\n",
              "RT_N_ENT_M0_3M                int64\n",
              "ANTIGUEDAD_LABORAL            int64\n",
              "UTILIDADOPERATIVA           float64\n",
              "VENTASNETAS                 float64\n",
              "ENDEUDAMIENTOPATRIMONIAL    float64\n",
              "MARGENOPERATIVO             float64\n",
              "CICLOFINANCIERO             float64\n",
              "SEGMENTO                      int64\n",
              "TARGET                        int64\n",
              "dtype: object"
            ]
          },
          "metadata": {
            "tags": []
          },
          "execution_count": 8
        }
      ]
    },
    {
      "cell_type": "code",
      "metadata": {
        "colab": {
          "base_uri": "https://localhost:8080/"
        },
        "id": "i5bTIGXbq6Rr",
        "outputId": "1efedf31-219e-421d-f585-2cf92d1b15db"
      },
      "source": [
        "desarrll.info()"
      ],
      "execution_count": null,
      "outputs": [
        {
          "output_type": "stream",
          "text": [
            "<class 'pandas.core.frame.DataFrame'>\n",
            "RangeIndex: 8486 entries, 0 to 8485\n",
            "Data columns (total 24 columns):\n",
            " #   Column                    Non-Null Count  Dtype  \n",
            "---  ------                    --------------  -----  \n",
            " 0   ID                        8486 non-null   int64  \n",
            " 1   GENERO                    8486 non-null   object \n",
            " 2   ESTADO_CIVIL              8486 non-null   object \n",
            " 3   EDAD                      8486 non-null   int64  \n",
            " 4   GRADO_INSTRUCCION         8486 non-null   object \n",
            " 5   CONDICION_VIVIENDA        8486 non-null   object \n",
            " 6   NUMERO_DEPENDIENTES       8486 non-null   int64  \n",
            " 7   DPTO_DOMICILIO            8486 non-null   object \n",
            " 8   ANTIGUEDAD_DOMICILIO      8486 non-null   int64  \n",
            " 9   TIPO_TRABAJADOR           8486 non-null   object \n",
            " 10  TIENE_VEHIVULO            8486 non-null   bool   \n",
            " 11  LIQUIDEZDISPONIBLE        8486 non-null   float64\n",
            " 12  ACTIVIDAD_ECONOMICA       8486 non-null   object \n",
            " 13  DEUDAS_NEGATIVAS          8486 non-null   int64  \n",
            " 14  T_D_AC_VEN_MA30_3M        8486 non-null   int64  \n",
            " 15  RT_N_ENT_M0_3M            8486 non-null   int64  \n",
            " 16  ANTIGUEDAD_LABORAL        8486 non-null   int64  \n",
            " 17  UTILIDADOPERATIVA         8486 non-null   float64\n",
            " 18  VENTASNETAS               8486 non-null   float64\n",
            " 19  ENDEUDAMIENTOPATRIMONIAL  8486 non-null   float64\n",
            " 20  MARGENOPERATIVO           8486 non-null   float64\n",
            " 21  CICLOFINANCIERO           8486 non-null   float64\n",
            " 22  SEGMENTO                  8486 non-null   int64  \n",
            " 23  TARGET                    8486 non-null   int64  \n",
            "dtypes: bool(1), float64(6), int64(10), object(7)\n",
            "memory usage: 1.5+ MB\n"
          ],
          "name": "stdout"
        }
      ]
    },
    {
      "cell_type": "markdown",
      "metadata": {
        "id": "sw0v4dQ-41Xp"
      },
      "source": [
        "### 3.Visualización de variables Categoricas"
      ]
    },
    {
      "cell_type": "code",
      "metadata": {
        "id": "_J1tNW7NK7Ci"
      },
      "source": [
        "#Variables Cualitativas\n",
        "columnas_categoricas = ['GENERO','ESTADO_CIVIL','GRADO_INSTRUCCION','CONDICION_VIVIENDA','DPTO_DOMICILIO','TIPO_TRABAJADOR','TIENE_VEHIVULO','ACTIVIDAD_ECONOMICA', 'TARGET']"
      ],
      "execution_count": null,
      "outputs": []
    },
    {
      "cell_type": "code",
      "metadata": {
        "id": "r431LilMMhdY"
      },
      "source": [
        "#Variables numericas\n",
        "columnas_numericas = ['EDAD','NUMERO_DEPENDIENTES','ANTIGUEDAD_DOMICILIO','LIQUIDEZDISPONIBLE','DEUDAS_NEGATIVAS','T_D_AC_VEN_MA30_3M','RT_N_ENT_M0_3M','ANTIGUEDAD_LABORAL','UTILIDADOPERATIVA', 'VENTASNETAS', 'ENDEUDAMIENTOPATRIMONIAL',\n",
        "       'MARGENOPERATIVO', 'CICLOFINANCIERO', 'SEGMENTO']"
      ],
      "execution_count": null,
      "outputs": []
    },
    {
      "cell_type": "code",
      "metadata": {
        "colab": {
          "base_uri": "https://localhost:8080/"
        },
        "id": "5PUhXYNEQ5Gt",
        "outputId": "8db012a9-5289-4956-9b97-3d00bd6111c2"
      },
      "source": [
        "columnas_numericas"
      ],
      "execution_count": null,
      "outputs": [
        {
          "output_type": "execute_result",
          "data": {
            "text/plain": [
              "['EDAD',\n",
              " 'NUMERO_DEPENDIENTES',\n",
              " 'ANTIGUEDAD_DOMICILIO',\n",
              " 'LIQUIDEZDISPONIBLE',\n",
              " 'DEUDAS_NEGATIVAS',\n",
              " 'T_D_AC_VEN_MA30_3M',\n",
              " 'RT_N_ENT_M0_3M',\n",
              " 'ANTIGUEDAD_LABORAL',\n",
              " 'UTILIDADOPERATIVA',\n",
              " 'VENTASNETAS',\n",
              " 'ENDEUDAMIENTOPATRIMONIAL',\n",
              " 'MARGENOPERATIVO',\n",
              " 'CICLOFINANCIERO',\n",
              " 'SEGMENTO']"
            ]
          },
          "metadata": {
            "tags": []
          },
          "execution_count": 10
        }
      ]
    },
    {
      "cell_type": "code",
      "metadata": {
        "id": "kI_NmofFP8ZA"
      },
      "source": [
        "import matplotlib.pyplot as plt ## Todo lo referente a gráficas y demás.\n",
        "#import matplotlib as plt"
      ],
      "execution_count": null,
      "outputs": []
    },
    {
      "cell_type": "code",
      "metadata": {
        "colab": {
          "base_uri": "https://localhost:8080/",
          "height": 1000
        },
        "id": "z0x3tmt961uA",
        "outputId": "8b0f7fc7-4290-439f-cc7e-3ac3ca4d7113"
      },
      "source": [
        "# No olvidemos separar las variables cualitativas para poder trabajarlas eficientemente\n",
        "variables_categoricas = [\"GENERO\",\"ESTADO_CIVIL\",\"GRADO_INSTRUCCION\",\"CONDICION_VIVIENDA\",\"NUMERO_DEPENDIENTES\",\"DPTO_DOMICILIO\",\"TIPO_TRABAJADOR\",\"ACTIVIDAD_ECONOMICA\"]\n",
        "for col in variables_categoricas:\n",
        "    plt.figure(figsize=(13,4))\n",
        "    sns.barplot(desarrll[col].value_counts().values, desarrll[col].value_counts().index)\n",
        "    plt.title(col)\n",
        "    plt.tight_layout()\n",
        "plt.show()"
      ],
      "execution_count": null,
      "outputs": [
        {
          "output_type": "display_data",
          "data": {
            "image/png": "[encoded data removed]",
            "text/plain": [
              "<Figure size 936x288 with 1 Axes>"
            ]
          },
          "metadata": {
            "tags": [],
            "needs_background": "light"
          }
        },
        {
          "output_type": "display_data",
          "data": {
            "image/png": "[encoded data removed]",
            "text/plain": [
              "<Figure size 936x288 with 1 Axes>"
            ]
          },
          "metadata": {
            "tags": [],
            "needs_background": "light"
          }
        },
        {
          "output_type": "display_data",
          "data": {
            "image/png": "[encoded data removed]",
            "text/plain": [
              "<Figure size 936x288 with 1 Axes>"
            ]
          },
          "metadata": {
            "tags": [],
            "needs_background": "light"
          }
        },
        {
          "output_type": "display_data",
          "data": {
            "image/png": "[encoded data removed]",
            "text/plain": [
              "<Figure size 936x288 with 1 Axes>"
            ]
          },
          "metadata": {
            "tags": [],
            "needs_background": "light"
          }
        },
        {
          "output_type": "display_data",
          "data": {
            "image/png": "[encoded data removed]",
            "text/plain": [
              "<Figure size 936x288 with 1 Axes>"
            ]
          },
          "metadata": {
            "tags": [],
            "needs_background": "light"
          }
        },
        {
          "output_type": "display_data",
          "data": {
            "image/png": "[encoded data removed]",
            "text/plain": [
              "<Figure size 936x288 with 1 Axes>"
            ]
          },
          "metadata": {
            "tags": [],
            "needs_background": "light"
          }
        },
        {
          "output_type": "display_data",
          "data": {
            "image/png": "[encoded data removed]",
            "text/plain": [
              "<Figure size 936x288 with 1 Axes>"
            ]
          },
          "metadata": {
            "tags": [],
            "needs_background": "light"
          }
        },
        {
          "output_type": "display_data",
          "data": {
            "image/png": "[encoded data removed]",
            "text/plain": [
              "<Figure size 936x288 with 1 Axes>"
            ]
          },
          "metadata": {
            "tags": [],
            "needs_background": "light"
          }
        }
      ]
    },
    {
      "cell_type": "code",
      "metadata": {
        "colab": {
          "base_uri": "https://localhost:8080/"
        },
        "id": "dtP-TSZ1b4Vz",
        "outputId": "2a015d07-a0f8-4cc9-9d77-044b57e8c56d"
      },
      "source": [
        "desarrll.isnull().sum()"
      ],
      "execution_count": null,
      "outputs": [
        {
          "output_type": "execute_result",
          "data": {
            "text/plain": [
              "ID                          0\n",
              "GENERO                      0\n",
              "ESTADO_CIVIL                0\n",
              "EDAD                        0\n",
              "GRADO_INSTRUCCION           0\n",
              "CONDICION_VIVIENDA          0\n",
              "NUMERO_DEPENDIENTES         0\n",
              "DPTO_DOMICILIO              0\n",
              "ANTIGUEDAD_DOMICILIO        0\n",
              "TIPO_TRABAJADOR             0\n",
              "TIENE_VEHIVULO              0\n",
              "LIQUIDEZDISPONIBLE          0\n",
              "ACTIVIDAD_ECONOMICA         0\n",
              "DEUDAS_NEGATIVAS            0\n",
              "T_D_AC_VEN_MA30_3M          0\n",
              "RT_N_ENT_M0_3M              0\n",
              "ANTIGUEDAD_LABORAL          0\n",
              "UTILIDADOPERATIVA           0\n",
              "VENTASNETAS                 0\n",
              "ENDEUDAMIENTOPATRIMONIAL    0\n",
              "MARGENOPERATIVO             0\n",
              "CICLOFINANCIERO             0\n",
              "SEGMENTO                    0\n",
              "TARGET                      0\n",
              "dtype: int64"
            ]
          },
          "metadata": {
            "tags": []
          },
          "execution_count": 16
        }
      ]
    },
    {
      "cell_type": "markdown",
      "metadata": {
        "id": "N44Gne6Uf4pQ"
      },
      "source": [
        "### 4.Transformación de variables categoricas"
      ]
    },
    {
      "cell_type": "code",
      "metadata": {
        "colab": {
          "base_uri": "https://localhost:8080/"
        },
        "id": "GxorjzS0cAs1",
        "outputId": "5e6b3044-71f0-4927-a9a8-6c06cf7f84d5"
      },
      "source": [
        "# Preprocesamiento con LabelEncoder\n",
        "\n",
        "from sklearn.preprocessing import LabelEncoder\n",
        "for c in columnas_categoricas:\n",
        "    print(str(c))\n",
        "    le = LabelEncoder()\n",
        "    le.fit(desarrll[str(c)])\n",
        "    desarrll[str(c)]=le.transform(desarrll[str(c)])"
      ],
      "execution_count": null,
      "outputs": [
        {
          "output_type": "stream",
          "text": [
            "GENERO\n",
            "ESTADO_CIVIL\n",
            "GRADO_INSTRUCCION\n",
            "CONDICION_VIVIENDA\n",
            "DPTO_DOMICILIO\n",
            "TIPO_TRABAJADOR\n",
            "TIENE_VEHIVULO\n",
            "ACTIVIDAD_ECONOMICA\n",
            "TARGET\n"
          ],
          "name": "stdout"
        }
      ]
    },
    {
      "cell_type": "code",
      "metadata": {
        "id": "vAbarFLKTry_"
      },
      "source": [
        "# Imputamos los valores cuantitativos por Media o Mediana\n",
        "## Median\n",
        "for c in columnas_numericas:\n",
        "    median = desarrll[c].median()\n",
        "    desarrll[c].fillna(median, inplace=True)"
      ],
      "execution_count": null,
      "outputs": []
    },
    {
      "cell_type": "code",
      "metadata": {
        "id": "L0wJZEDGriVn",
        "colab": {
          "base_uri": "https://localhost:8080/",
          "height": 224
        },
        "outputId": "e3f65011-59e2-4101-cde2-ea736d4b96c3"
      },
      "source": [
        "desarrll.head(5)"
      ],
      "execution_count": null,
      "outputs": [
        {
          "output_type": "execute_result",
          "data": {
            "text/html": [
              "<div>\n",
              "<style scoped>\n",
              "    .dataframe tbody tr th:only-of-type {\n",
              "        vertical-align: middle;\n",
              "    }\n",
              "\n",
              "    .dataframe tbody tr th {\n",
              "        vertical-align: top;\n",
              "    }\n",
              "\n",
              "    .dataframe thead th {\n",
              "        text-align: right;\n",
              "    }\n",
              "</style>\n",
              "<table border=\"1\" class=\"dataframe\">\n",
              "  <thead>\n",
              "    <tr style=\"text-align: right;\">\n",
              "      <th></th>\n",
              "      <th>ID</th>\n",
              "      <th>GENERO</th>\n",
              "      <th>ESTADO_CIVIL</th>\n",
              "      <th>EDAD</th>\n",
              "      <th>GRADO_INSTRUCCION</th>\n",
              "      <th>CONDICION_VIVIENDA</th>\n",
              "      <th>NUMERO_DEPENDIENTES</th>\n",
              "      <th>DPTO_DOMICILIO</th>\n",
              "      <th>ANTIGUEDAD_DOMICILIO</th>\n",
              "      <th>TIPO_TRABAJADOR</th>\n",
              "      <th>TIENE_VEHIVULO</th>\n",
              "      <th>LIQUIDEZDISPONIBLE</th>\n",
              "      <th>ACTIVIDAD_ECONOMICA</th>\n",
              "      <th>DEUDAS_NEGATIVAS</th>\n",
              "      <th>T_D_AC_VEN_MA30_3M</th>\n",
              "      <th>RT_N_ENT_M0_3M</th>\n",
              "      <th>ANTIGUEDAD_LABORAL</th>\n",
              "      <th>UTILIDADOPERATIVA</th>\n",
              "      <th>VENTASNETAS</th>\n",
              "      <th>ENDEUDAMIENTOPATRIMONIAL</th>\n",
              "      <th>MARGENOPERATIVO</th>\n",
              "      <th>CICLOFINANCIERO</th>\n",
              "      <th>SEGMENTO</th>\n",
              "      <th>TARGET</th>\n",
              "    </tr>\n",
              "  </thead>\n",
              "  <tbody>\n",
              "    <tr>\n",
              "      <th>0</th>\n",
              "      <td>1</td>\n",
              "      <td>0</td>\n",
              "      <td>2</td>\n",
              "      <td>38</td>\n",
              "      <td>0</td>\n",
              "      <td>2</td>\n",
              "      <td>2</td>\n",
              "      <td>13</td>\n",
              "      <td>16</td>\n",
              "      <td>1</td>\n",
              "      <td>0</td>\n",
              "      <td>1139.00</td>\n",
              "      <td>2</td>\n",
              "      <td>0</td>\n",
              "      <td>0</td>\n",
              "      <td>0</td>\n",
              "      <td>16</td>\n",
              "      <td>1895.00</td>\n",
              "      <td>7960.0</td>\n",
              "      <td>0.22</td>\n",
              "      <td>26.91</td>\n",
              "      <td>59.67</td>\n",
              "      <td>2</td>\n",
              "      <td>0</td>\n",
              "    </tr>\n",
              "    <tr>\n",
              "      <th>1</th>\n",
              "      <td>2</td>\n",
              "      <td>0</td>\n",
              "      <td>2</td>\n",
              "      <td>39</td>\n",
              "      <td>0</td>\n",
              "      <td>2</td>\n",
              "      <td>2</td>\n",
              "      <td>14</td>\n",
              "      <td>4</td>\n",
              "      <td>1</td>\n",
              "      <td>0</td>\n",
              "      <td>2877.37</td>\n",
              "      <td>17</td>\n",
              "      <td>0</td>\n",
              "      <td>0</td>\n",
              "      <td>0</td>\n",
              "      <td>5</td>\n",
              "      <td>3957.37</td>\n",
              "      <td>1480.0</td>\n",
              "      <td>0.22</td>\n",
              "      <td>29.98</td>\n",
              "      <td>65.21</td>\n",
              "      <td>3</td>\n",
              "      <td>0</td>\n",
              "    </tr>\n",
              "    <tr>\n",
              "      <th>2</th>\n",
              "      <td>3</td>\n",
              "      <td>1</td>\n",
              "      <td>0</td>\n",
              "      <td>46</td>\n",
              "      <td>2</td>\n",
              "      <td>2</td>\n",
              "      <td>3</td>\n",
              "      <td>5</td>\n",
              "      <td>26</td>\n",
              "      <td>1</td>\n",
              "      <td>0</td>\n",
              "      <td>888.00</td>\n",
              "      <td>10</td>\n",
              "      <td>0</td>\n",
              "      <td>0</td>\n",
              "      <td>0</td>\n",
              "      <td>5</td>\n",
              "      <td>1338.00</td>\n",
              "      <td>2880.0</td>\n",
              "      <td>0.22</td>\n",
              "      <td>24.77</td>\n",
              "      <td>30.00</td>\n",
              "      <td>1</td>\n",
              "      <td>0</td>\n",
              "    </tr>\n",
              "    <tr>\n",
              "      <th>3</th>\n",
              "      <td>4</td>\n",
              "      <td>0</td>\n",
              "      <td>2</td>\n",
              "      <td>23</td>\n",
              "      <td>3</td>\n",
              "      <td>1</td>\n",
              "      <td>0</td>\n",
              "      <td>12</td>\n",
              "      <td>16</td>\n",
              "      <td>1</td>\n",
              "      <td>0</td>\n",
              "      <td>2373.00</td>\n",
              "      <td>10</td>\n",
              "      <td>0</td>\n",
              "      <td>0</td>\n",
              "      <td>0</td>\n",
              "      <td>5</td>\n",
              "      <td>3350.00</td>\n",
              "      <td>1800.0</td>\n",
              "      <td>0.22</td>\n",
              "      <td>72.82</td>\n",
              "      <td>25.80</td>\n",
              "      <td>3</td>\n",
              "      <td>0</td>\n",
              "    </tr>\n",
              "    <tr>\n",
              "      <th>4</th>\n",
              "      <td>5</td>\n",
              "      <td>0</td>\n",
              "      <td>0</td>\n",
              "      <td>34</td>\n",
              "      <td>0</td>\n",
              "      <td>1</td>\n",
              "      <td>3</td>\n",
              "      <td>14</td>\n",
              "      <td>16</td>\n",
              "      <td>1</td>\n",
              "      <td>0</td>\n",
              "      <td>1353.06</td>\n",
              "      <td>2</td>\n",
              "      <td>0</td>\n",
              "      <td>0</td>\n",
              "      <td>0</td>\n",
              "      <td>5</td>\n",
              "      <td>2003.60</td>\n",
              "      <td>82800.0</td>\n",
              "      <td>0.22</td>\n",
              "      <td>17.27</td>\n",
              "      <td>8.77</td>\n",
              "      <td>3</td>\n",
              "      <td>0</td>\n",
              "    </tr>\n",
              "  </tbody>\n",
              "</table>\n",
              "</div>"
            ],
            "text/plain": [
              "   ID  GENERO  ESTADO_CIVIL  ...  CICLOFINANCIERO  SEGMENTO  TARGET\n",
              "0   1       0             2  ...            59.67         2       0\n",
              "1   2       0             2  ...            65.21         3       0\n",
              "2   3       1             0  ...            30.00         1       0\n",
              "3   4       0             2  ...            25.80         3       0\n",
              "4   5       0             0  ...             8.77         3       0\n",
              "\n",
              "[5 rows x 24 columns]"
            ]
          },
          "metadata": {
            "tags": []
          },
          "execution_count": 12
        }
      ]
    },
    {
      "cell_type": "code",
      "metadata": {
        "id": "eH-CNXG8QvcN"
      },
      "source": [],
      "execution_count": null,
      "outputs": []
    },
    {
      "cell_type": "markdown",
      "metadata": {
        "id": "LLdYw7rx7CKH"
      },
      "source": [
        "### 4.Normalización"
      ]
    },
    {
      "cell_type": "markdown",
      "metadata": {
        "id": "9ZbFWj9b7nNz"
      },
      "source": [
        "Aquí la normalización se realiza mediante el escalar Min-Max. La razón para utilizar la normalización es reducir la disparidad entre los valores."
      ]
    },
    {
      "cell_type": "code",
      "metadata": {
        "id": "8HVrXgGOPqKV"
      },
      "source": [
        "## Mean Normalization\n",
        "desarrll = pd.read_csv(\"/content/drive/MyDrive/Mis proyectos/Course Machine learning advanced (DMC)/Examen competencia Kaggle de la clase 1/AdquisicionHIP_Train.csv\")\n",
        "desarrll['EDAD'] = (desarrll['EDAD'] - desarrll['EDAD'].mean()) / desarrll['EDAD'].std()\n"
      ],
      "execution_count": null,
      "outputs": []
    },
    {
      "cell_type": "code",
      "metadata": {
        "id": "p2XUBlvnQeD4",
        "colab": {
          "base_uri": "https://localhost:8080/",
          "height": 224
        },
        "outputId": "30986338-75d4-445a-a789-ef486a4056cd"
      },
      "source": [
        "desarrll.head()"
      ],
      "execution_count": null,
      "outputs": [
        {
          "output_type": "execute_result",
          "data": {
            "text/html": [
              "<div>\n",
              "<style scoped>\n",
              "    .dataframe tbody tr th:only-of-type {\n",
              "        vertical-align: middle;\n",
              "    }\n",
              "\n",
              "    .dataframe tbody tr th {\n",
              "        vertical-align: top;\n",
              "    }\n",
              "\n",
              "    .dataframe thead th {\n",
              "        text-align: right;\n",
              "    }\n",
              "</style>\n",
              "<table border=\"1\" class=\"dataframe\">\n",
              "  <thead>\n",
              "    <tr style=\"text-align: right;\">\n",
              "      <th></th>\n",
              "      <th>ID</th>\n",
              "      <th>GENERO</th>\n",
              "      <th>ESTADO_CIVIL</th>\n",
              "      <th>EDAD</th>\n",
              "      <th>GRADO_INSTRUCCION</th>\n",
              "      <th>CONDICION_VIVIENDA</th>\n",
              "      <th>NUMERO_DEPENDIENTES</th>\n",
              "      <th>DPTO_DOMICILIO</th>\n",
              "      <th>ANTIGUEDAD_DOMICILIO</th>\n",
              "      <th>TIPO_TRABAJADOR</th>\n",
              "      <th>TIENE_VEHIVULO</th>\n",
              "      <th>LIQUIDEZDISPONIBLE</th>\n",
              "      <th>ACTIVIDAD_ECONOMICA</th>\n",
              "      <th>DEUDAS_NEGATIVAS</th>\n",
              "      <th>T_D_AC_VEN_MA30_3M</th>\n",
              "      <th>RT_N_ENT_M0_3M</th>\n",
              "      <th>ANTIGUEDAD_LABORAL</th>\n",
              "      <th>UTILIDADOPERATIVA</th>\n",
              "      <th>VENTASNETAS</th>\n",
              "      <th>ENDEUDAMIENTOPATRIMONIAL</th>\n",
              "      <th>MARGENOPERATIVO</th>\n",
              "      <th>CICLOFINANCIERO</th>\n",
              "      <th>SEGMENTO</th>\n",
              "      <th>TARGET</th>\n",
              "    </tr>\n",
              "  </thead>\n",
              "  <tbody>\n",
              "    <tr>\n",
              "      <th>0</th>\n",
              "      <td>1</td>\n",
              "      <td>F</td>\n",
              "      <td>S</td>\n",
              "      <td>-0.009377</td>\n",
              "      <td>MEDIO/SECUNDARIA</td>\n",
              "      <td>PROPIO</td>\n",
              "      <td>2</td>\n",
              "      <td>LAMBAYEQUE</td>\n",
              "      <td>16</td>\n",
              "      <td>INDEPENDIENTE</td>\n",
              "      <td>False</td>\n",
              "      <td>1139.00</td>\n",
              "      <td>BODEGAS</td>\n",
              "      <td>0</td>\n",
              "      <td>0</td>\n",
              "      <td>0</td>\n",
              "      <td>16</td>\n",
              "      <td>1895.00</td>\n",
              "      <td>7960.0</td>\n",
              "      <td>0.22</td>\n",
              "      <td>26.91</td>\n",
              "      <td>59.67</td>\n",
              "      <td>2</td>\n",
              "      <td>0</td>\n",
              "    </tr>\n",
              "    <tr>\n",
              "      <th>1</th>\n",
              "      <td>2</td>\n",
              "      <td>F</td>\n",
              "      <td>S</td>\n",
              "      <td>0.070276</td>\n",
              "      <td>MEDIO/SECUNDARIA</td>\n",
              "      <td>PROPIO</td>\n",
              "      <td>2</td>\n",
              "      <td>LIMA</td>\n",
              "      <td>4</td>\n",
              "      <td>INDEPENDIENTE</td>\n",
              "      <td>False</td>\n",
              "      <td>2877.37</td>\n",
              "      <td>VENTA DE COMIDAS</td>\n",
              "      <td>0</td>\n",
              "      <td>0</td>\n",
              "      <td>0</td>\n",
              "      <td>5</td>\n",
              "      <td>3957.37</td>\n",
              "      <td>1480.0</td>\n",
              "      <td>0.22</td>\n",
              "      <td>29.98</td>\n",
              "      <td>65.21</td>\n",
              "      <td>3</td>\n",
              "      <td>0</td>\n",
              "    </tr>\n",
              "    <tr>\n",
              "      <th>2</th>\n",
              "      <td>3</td>\n",
              "      <td>M</td>\n",
              "      <td>C</td>\n",
              "      <td>0.627843</td>\n",
              "      <td>PRIMARIA</td>\n",
              "      <td>PROPIO</td>\n",
              "      <td>3</td>\n",
              "      <td>CAJAMARCA</td>\n",
              "      <td>26</td>\n",
              "      <td>INDEPENDIENTE</td>\n",
              "      <td>False</td>\n",
              "      <td>888.00</td>\n",
              "      <td>OTRAS ACTIVIDADES</td>\n",
              "      <td>0</td>\n",
              "      <td>0</td>\n",
              "      <td>0</td>\n",
              "      <td>5</td>\n",
              "      <td>1338.00</td>\n",
              "      <td>2880.0</td>\n",
              "      <td>0.22</td>\n",
              "      <td>24.77</td>\n",
              "      <td>30.00</td>\n",
              "      <td>1</td>\n",
              "      <td>0</td>\n",
              "    </tr>\n",
              "    <tr>\n",
              "      <th>3</th>\n",
              "      <td>4</td>\n",
              "      <td>F</td>\n",
              "      <td>S</td>\n",
              "      <td>-1.204165</td>\n",
              "      <td>TECNICO</td>\n",
              "      <td>DE FAMILIAR</td>\n",
              "      <td>0</td>\n",
              "      <td>LA LIBERTAD</td>\n",
              "      <td>16</td>\n",
              "      <td>INDEPENDIENTE</td>\n",
              "      <td>False</td>\n",
              "      <td>2373.00</td>\n",
              "      <td>OTRAS ACTIVIDADES</td>\n",
              "      <td>0</td>\n",
              "      <td>0</td>\n",
              "      <td>0</td>\n",
              "      <td>5</td>\n",
              "      <td>3350.00</td>\n",
              "      <td>1800.0</td>\n",
              "      <td>0.22</td>\n",
              "      <td>72.82</td>\n",
              "      <td>25.80</td>\n",
              "      <td>3</td>\n",
              "      <td>0</td>\n",
              "    </tr>\n",
              "    <tr>\n",
              "      <th>4</th>\n",
              "      <td>5</td>\n",
              "      <td>F</td>\n",
              "      <td>C</td>\n",
              "      <td>-0.327987</td>\n",
              "      <td>MEDIO/SECUNDARIA</td>\n",
              "      <td>DE FAMILIAR</td>\n",
              "      <td>3</td>\n",
              "      <td>LIMA</td>\n",
              "      <td>16</td>\n",
              "      <td>INDEPENDIENTE</td>\n",
              "      <td>False</td>\n",
              "      <td>1353.06</td>\n",
              "      <td>BODEGAS</td>\n",
              "      <td>0</td>\n",
              "      <td>0</td>\n",
              "      <td>0</td>\n",
              "      <td>5</td>\n",
              "      <td>2003.60</td>\n",
              "      <td>82800.0</td>\n",
              "      <td>0.22</td>\n",
              "      <td>17.27</td>\n",
              "      <td>8.77</td>\n",
              "      <td>3</td>\n",
              "      <td>0</td>\n",
              "    </tr>\n",
              "  </tbody>\n",
              "</table>\n",
              "</div>"
            ],
            "text/plain": [
              "   ID GENERO ESTADO_CIVIL  ...  CICLOFINANCIERO SEGMENTO TARGET\n",
              "0   1      F            S  ...            59.67        2      0\n",
              "1   2      F            S  ...            65.21        3      0\n",
              "2   3      M            C  ...            30.00        1      0\n",
              "3   4      F            S  ...            25.80        3      0\n",
              "4   5      F            C  ...             8.77        3      0\n",
              "\n",
              "[5 rows x 24 columns]"
            ]
          },
          "metadata": {
            "tags": []
          },
          "execution_count": 4
        }
      ]
    },
    {
      "cell_type": "code",
      "metadata": {
        "id": "WjzWOFgb7ILD",
        "colab": {
          "base_uri": "https://localhost:8080/",
          "height": 197
        },
        "outputId": "d5d24df6-6a30-49af-99da-ab4ab8402b06"
      },
      "source": [
        "from sklearn.preprocessing import MinMaxScaler\n",
        "scaler = MinMaxScaler()\n",
        "df[columnas_numericas] = scaler.fit_transform(df[columnas_numericas])"
      ],
      "execution_count": null,
      "outputs": [
        {
          "output_type": "error",
          "ename": "NameError",
          "evalue": "ignored",
          "traceback": [
            "\u001b[0;31m---------------------------------------------------------------------------\u001b[0m",
            "\u001b[0;31mNameError\u001b[0m                                 Traceback (most recent call last)",
            "\u001b[0;32m<ipython-input-17-016727e4b45e>\u001b[0m in \u001b[0;36m<module>\u001b[0;34m()\u001b[0m\n\u001b[1;32m      1\u001b[0m \u001b[0;32mfrom\u001b[0m \u001b[0msklearn\u001b[0m\u001b[0;34m.\u001b[0m\u001b[0mpreprocessing\u001b[0m \u001b[0;32mimport\u001b[0m \u001b[0mMinMaxScaler\u001b[0m\u001b[0;34m\u001b[0m\u001b[0;34m\u001b[0m\u001b[0m\n\u001b[1;32m      2\u001b[0m \u001b[0mscaler\u001b[0m \u001b[0;34m=\u001b[0m \u001b[0mMinMaxScaler\u001b[0m\u001b[0;34m(\u001b[0m\u001b[0;34m)\u001b[0m\u001b[0;34m\u001b[0m\u001b[0;34m\u001b[0m\u001b[0m\n\u001b[0;32m----> 3\u001b[0;31m \u001b[0mdf\u001b[0m\u001b[0;34m[\u001b[0m\u001b[0mcolumnas_numericas\u001b[0m\u001b[0;34m]\u001b[0m \u001b[0;34m=\u001b[0m \u001b[0mscaler\u001b[0m\u001b[0;34m.\u001b[0m\u001b[0mfit_transform\u001b[0m\u001b[0;34m(\u001b[0m\u001b[0mdf\u001b[0m\u001b[0;34m[\u001b[0m\u001b[0mcolumnas_numericas\u001b[0m\u001b[0;34m]\u001b[0m\u001b[0;34m)\u001b[0m\u001b[0;34m\u001b[0m\u001b[0;34m\u001b[0m\u001b[0m\n\u001b[0m",
            "\u001b[0;31mNameError\u001b[0m: name 'df' is not defined"
          ]
        }
      ]
    },
    {
      "cell_type": "code",
      "metadata": {
        "id": "vhhBQbcS7Ntr"
      },
      "source": [
        "X = df.iloc[:,0:19]"
      ],
      "execution_count": null,
      "outputs": []
    },
    {
      "cell_type": "code",
      "metadata": {
        "id": "WtHV8pD97PhR"
      },
      "source": [
        "\n",
        "x_train, x_test, y_train, y_test = model_selection.train_test_split(X, y, test_size=0.2, shuffle = True) #80/20 split"
      ],
      "execution_count": null,
      "outputs": []
    },
    {
      "cell_type": "markdown",
      "metadata": {
        "id": "YQQC678AroMa"
      },
      "source": [
        "### 5.Visualización de variables Cuantitativas"
      ]
    },
    {
      "cell_type": "code",
      "metadata": {
        "id": "rdQVdwkc-jq3"
      },
      "source": [
        "import pandas as pd\n",
        "from pandas.plotting import scatter_matrix"
      ],
      "execution_count": null,
      "outputs": []
    },
    {
      "cell_type": "code",
      "metadata": {
        "colab": {
          "background_save": true
        },
        "id": "ErxC5YAR-Tva",
        "outputId": "75700e8c-9ad7-4a6a-aa74-1ab623db6747"
      },
      "source": [
        "# scatter plot matrix\n",
        "scatter_matrix(desarrll)\n",
        "plt.show()"
      ],
      "execution_count": null,
      "outputs": [
        {
          "output_type": "display_data",
          "data": {
            "image/png": "[encoded data removed]",
            "text/plain": [
              "<Figure size 432x288 with 529 Axes>"
            ]
          },
          "metadata": {
            "tags": []
          }
        }
      ]
    },
    {
      "cell_type": "code",
      "metadata": {
        "colab": {
          "base_uri": "https://localhost:8080/",
          "height": 317
        },
        "id": "PCxlg9wmc1LT",
        "outputId": "e326be6d-737c-474a-b603-3d64a16b7902"
      },
      "source": [
        "desarrll.describe() #Resumen de la información cuantitativa"
      ],
      "execution_count": null,
      "outputs": [
        {
          "output_type": "execute_result",
          "data": {
            "text/html": [
              "<div>\n",
              "<style scoped>\n",
              "    .dataframe tbody tr th:only-of-type {\n",
              "        vertical-align: middle;\n",
              "    }\n",
              "\n",
              "    .dataframe tbody tr th {\n",
              "        vertical-align: top;\n",
              "    }\n",
              "\n",
              "    .dataframe thead th {\n",
              "        text-align: right;\n",
              "    }\n",
              "</style>\n",
              "<table border=\"1\" class=\"dataframe\">\n",
              "  <thead>\n",
              "    <tr style=\"text-align: right;\">\n",
              "      <th></th>\n",
              "      <th>ID</th>\n",
              "      <th>GENERO</th>\n",
              "      <th>ESTADO_CIVIL</th>\n",
              "      <th>EDAD</th>\n",
              "      <th>GRADO_INSTRUCCION</th>\n",
              "      <th>CONDICION_VIVIENDA</th>\n",
              "      <th>NUMERO_DEPENDIENTES</th>\n",
              "      <th>DPTO_DOMICILIO</th>\n",
              "      <th>ANTIGUEDAD_DOMICILIO</th>\n",
              "      <th>TIPO_TRABAJADOR</th>\n",
              "      <th>TIENE_VEHIVULO</th>\n",
              "      <th>LIQUIDEZDISPONIBLE</th>\n",
              "      <th>ACTIVIDAD_ECONOMICA</th>\n",
              "      <th>DEUDAS_NEGATIVAS</th>\n",
              "      <th>T_D_AC_VEN_MA30_3M</th>\n",
              "      <th>RT_N_ENT_M0_3M</th>\n",
              "      <th>ANTIGUEDAD_LABORAL</th>\n",
              "      <th>UTILIDADOPERATIVA</th>\n",
              "      <th>VENTASNETAS</th>\n",
              "      <th>ENDEUDAMIENTOPATRIMONIAL</th>\n",
              "      <th>MARGENOPERATIVO</th>\n",
              "      <th>CICLOFINANCIERO</th>\n",
              "      <th>SEGMENTO</th>\n",
              "      <th>TARGET</th>\n",
              "    </tr>\n",
              "  </thead>\n",
              "  <tbody>\n",
              "    <tr>\n",
              "      <th>count</th>\n",
              "      <td>8486.000000</td>\n",
              "      <td>8486.000000</td>\n",
              "      <td>8486.000000</td>\n",
              "      <td>8486.000000</td>\n",
              "      <td>8486.000000</td>\n",
              "      <td>8486.000000</td>\n",
              "      <td>8486.000000</td>\n",
              "      <td>8486.000000</td>\n",
              "      <td>8486.000000</td>\n",
              "      <td>8486.000000</td>\n",
              "      <td>8486.000000</td>\n",
              "      <td>8486.000000</td>\n",
              "      <td>8486.000000</td>\n",
              "      <td>8486.000000</td>\n",
              "      <td>8486.000000</td>\n",
              "      <td>8486.000000</td>\n",
              "      <td>8486.000000</td>\n",
              "      <td>8486.000000</td>\n",
              "      <td>8486.000000</td>\n",
              "      <td>8486.000000</td>\n",
              "      <td>8486.000000</td>\n",
              "      <td>8486.000000</td>\n",
              "      <td>8486.000000</td>\n",
              "      <td>8486.000000</td>\n",
              "    </tr>\n",
              "    <tr>\n",
              "      <th>mean</th>\n",
              "      <td>4243.500000</td>\n",
              "      <td>0.494108</td>\n",
              "      <td>1.676997</td>\n",
              "      <td>38.117723</td>\n",
              "      <td>0.936719</td>\n",
              "      <td>1.396300</td>\n",
              "      <td>1.301084</td>\n",
              "      <td>12.319939</td>\n",
              "      <td>11.737450</td>\n",
              "      <td>0.943790</td>\n",
              "      <td>0.068584</td>\n",
              "      <td>878.784709</td>\n",
              "      <td>11.084846</td>\n",
              "      <td>0.011195</td>\n",
              "      <td>0.241692</td>\n",
              "      <td>0.049022</td>\n",
              "      <td>5.981028</td>\n",
              "      <td>1392.998193</td>\n",
              "      <td>6780.685292</td>\n",
              "      <td>0.238119</td>\n",
              "      <td>32.351594</td>\n",
              "      <td>47.384088</td>\n",
              "      <td>2.109474</td>\n",
              "      <td>0.089559</td>\n",
              "    </tr>\n",
              "    <tr>\n",
              "      <th>std</th>\n",
              "      <td>2449.841525</td>\n",
              "      <td>0.499995</td>\n",
              "      <td>0.740896</td>\n",
              "      <td>12.554529</td>\n",
              "      <td>1.320480</td>\n",
              "      <td>0.668003</td>\n",
              "      <td>1.136823</td>\n",
              "      <td>6.077290</td>\n",
              "      <td>8.998206</td>\n",
              "      <td>0.230341</td>\n",
              "      <td>0.252760</td>\n",
              "      <td>1149.363821</td>\n",
              "      <td>7.121944</td>\n",
              "      <td>0.105218</td>\n",
              "      <td>0.428134</td>\n",
              "      <td>0.215927</td>\n",
              "      <td>4.575021</td>\n",
              "      <td>1443.808608</td>\n",
              "      <td>10845.418902</td>\n",
              "      <td>0.183900</td>\n",
              "      <td>18.951204</td>\n",
              "      <td>162.217300</td>\n",
              "      <td>0.756297</td>\n",
              "      <td>0.285566</td>\n",
              "    </tr>\n",
              "    <tr>\n",
              "      <th>min</th>\n",
              "      <td>1.000000</td>\n",
              "      <td>0.000000</td>\n",
              "      <td>0.000000</td>\n",
              "      <td>18.000000</td>\n",
              "      <td>0.000000</td>\n",
              "      <td>0.000000</td>\n",
              "      <td>0.000000</td>\n",
              "      <td>0.000000</td>\n",
              "      <td>0.000000</td>\n",
              "      <td>0.000000</td>\n",
              "      <td>0.000000</td>\n",
              "      <td>-130.000000</td>\n",
              "      <td>0.000000</td>\n",
              "      <td>0.000000</td>\n",
              "      <td>0.000000</td>\n",
              "      <td>0.000000</td>\n",
              "      <td>0.000000</td>\n",
              "      <td>-290.000000</td>\n",
              "      <td>360.000000</td>\n",
              "      <td>0.010000</td>\n",
              "      <td>-24.160000</td>\n",
              "      <td>-690.580000</td>\n",
              "      <td>1.000000</td>\n",
              "      <td>0.000000</td>\n",
              "    </tr>\n",
              "    <tr>\n",
              "      <th>25%</th>\n",
              "      <td>2122.250000</td>\n",
              "      <td>0.000000</td>\n",
              "      <td>2.000000</td>\n",
              "      <td>28.000000</td>\n",
              "      <td>0.000000</td>\n",
              "      <td>1.000000</td>\n",
              "      <td>0.000000</td>\n",
              "      <td>5.000000</td>\n",
              "      <td>5.000000</td>\n",
              "      <td>1.000000</td>\n",
              "      <td>0.000000</td>\n",
              "      <td>380.022500</td>\n",
              "      <td>4.000000</td>\n",
              "      <td>0.000000</td>\n",
              "      <td>0.000000</td>\n",
              "      <td>0.000000</td>\n",
              "      <td>5.000000</td>\n",
              "      <td>736.000000</td>\n",
              "      <td>2400.000000</td>\n",
              "      <td>0.220000</td>\n",
              "      <td>18.120000</td>\n",
              "      <td>16.212500</td>\n",
              "      <td>2.000000</td>\n",
              "      <td>0.000000</td>\n",
              "    </tr>\n",
              "    <tr>\n",
              "      <th>50%</th>\n",
              "      <td>4243.500000</td>\n",
              "      <td>0.000000</td>\n",
              "      <td>2.000000</td>\n",
              "      <td>37.000000</td>\n",
              "      <td>0.000000</td>\n",
              "      <td>1.000000</td>\n",
              "      <td>1.000000</td>\n",
              "      <td>13.000000</td>\n",
              "      <td>10.000000</td>\n",
              "      <td>1.000000</td>\n",
              "      <td>0.000000</td>\n",
              "      <td>605.000000</td>\n",
              "      <td>10.000000</td>\n",
              "      <td>0.000000</td>\n",
              "      <td>0.000000</td>\n",
              "      <td>0.000000</td>\n",
              "      <td>5.000000</td>\n",
              "      <td>1097.600000</td>\n",
              "      <td>4036.000000</td>\n",
              "      <td>0.220000</td>\n",
              "      <td>27.980000</td>\n",
              "      <td>30.000000</td>\n",
              "      <td>2.000000</td>\n",
              "      <td>0.000000</td>\n",
              "    </tr>\n",
              "    <tr>\n",
              "      <th>75%</th>\n",
              "      <td>6364.750000</td>\n",
              "      <td>1.000000</td>\n",
              "      <td>2.000000</td>\n",
              "      <td>47.000000</td>\n",
              "      <td>2.000000</td>\n",
              "      <td>2.000000</td>\n",
              "      <td>2.000000</td>\n",
              "      <td>18.000000</td>\n",
              "      <td>16.000000</td>\n",
              "      <td>1.000000</td>\n",
              "      <td>0.000000</td>\n",
              "      <td>996.187500</td>\n",
              "      <td>15.000000</td>\n",
              "      <td>0.000000</td>\n",
              "      <td>0.000000</td>\n",
              "      <td>0.000000</td>\n",
              "      <td>5.000000</td>\n",
              "      <td>1660.150000</td>\n",
              "      <td>7200.000000</td>\n",
              "      <td>0.220000</td>\n",
              "      <td>42.965000</td>\n",
              "      <td>47.700000</td>\n",
              "      <td>3.000000</td>\n",
              "      <td>0.000000</td>\n",
              "    </tr>\n",
              "    <tr>\n",
              "      <th>max</th>\n",
              "      <td>8486.000000</td>\n",
              "      <td>1.000000</td>\n",
              "      <td>3.000000</td>\n",
              "      <td>80.000000</td>\n",
              "      <td>4.000000</td>\n",
              "      <td>2.000000</td>\n",
              "      <td>11.000000</td>\n",
              "      <td>23.000000</td>\n",
              "      <td>66.000000</td>\n",
              "      <td>1.000000</td>\n",
              "      <td>1.000000</td>\n",
              "      <td>55725.000000</td>\n",
              "      <td>27.000000</td>\n",
              "      <td>1.000000</td>\n",
              "      <td>1.000000</td>\n",
              "      <td>1.000000</td>\n",
              "      <td>57.000000</td>\n",
              "      <td>69165.000000</td>\n",
              "      <td>364000.000000</td>\n",
              "      <td>7.200000</td>\n",
              "      <td>97.610000</td>\n",
              "      <td>11637.930000</td>\n",
              "      <td>3.000000</td>\n",
              "      <td>1.000000</td>\n",
              "    </tr>\n",
              "  </tbody>\n",
              "</table>\n",
              "</div>"
            ],
            "text/plain": [
              "                ID       GENERO  ...     SEGMENTO       TARGET\n",
              "count  8486.000000  8486.000000  ...  8486.000000  8486.000000\n",
              "mean   4243.500000     0.494108  ...     2.109474     0.089559\n",
              "std    2449.841525     0.499995  ...     0.756297     0.285566\n",
              "min       1.000000     0.000000  ...     1.000000     0.000000\n",
              "25%    2122.250000     0.000000  ...     2.000000     0.000000\n",
              "50%    4243.500000     0.000000  ...     2.000000     0.000000\n",
              "75%    6364.750000     1.000000  ...     3.000000     0.000000\n",
              "max    8486.000000     1.000000  ...     3.000000     1.000000\n",
              "\n",
              "[8 rows x 24 columns]"
            ]
          },
          "metadata": {
            "tags": []
          },
          "execution_count": 21
        }
      ]
    },
    {
      "cell_type": "code",
      "metadata": {
        "id": "KzItVidqsIIU"
      },
      "source": [
        "#Variables numericas\n",
        "columnas_numericas = ['EDAD','NUMERO_DEPENDIENTES','ANTIGUEDAD_DOMICILIO','LIQUIDEZDISPONIBLE','DEUDAS_NEGATIVAS','T_D_AC_VEN_MA30_3M','RT_N_ENT_M0_3M','ANTIGUEDAD_LABORAL','UTILIDADOPERATIVA', 'VENTASNETAS', 'ENDEUDAMIENTOPATRIMONIAL',\n",
        "       'MARGENOPERATIVO', 'CICLOFINANCIERO', 'SEGMENTO']"
      ],
      "execution_count": null,
      "outputs": []
    },
    {
      "cell_type": "code",
      "metadata": {
        "colab": {
          "base_uri": "https://localhost:8080/",
          "height": 1000
        },
        "id": "d3OmxZEzr3cP",
        "outputId": "13dce88f-9ec0-48e5-b34f-ad74ea54af99"
      },
      "source": [
        "desarrll[columnas_numericas].hist(figsize=(16, 20), bins=50, xlabelsize=8, ylabelsize=8)"
      ],
      "execution_count": null,
      "outputs": [
        {
          "output_type": "execute_result",
          "data": {
            "text/plain": [
              "array([[<matplotlib.axes._subplots.AxesSubplot object at 0x7fe22c882320>,\n",
              "        <matplotlib.axes._subplots.AxesSubplot object at 0x7fe22c8341d0>,\n",
              "        <matplotlib.axes._subplots.AxesSubplot object at 0x7fe22c7ee438>,\n",
              "        <matplotlib.axes._subplots.AxesSubplot object at 0x7fe22c79d6a0>],\n",
              "       [<matplotlib.axes._subplots.AxesSubplot object at 0x7fe22c7ce908>,\n",
              "        <matplotlib.axes._subplots.AxesSubplot object at 0x7fe22c77eb70>,\n",
              "        <matplotlib.axes._subplots.AxesSubplot object at 0x7fe22c730dd8>,\n",
              "        <matplotlib.axes._subplots.AxesSubplot object at 0x7fe22c6ef080>],\n",
              "       [<matplotlib.axes._subplots.AxesSubplot object at 0x7fe22c730f98>,\n",
              "        <matplotlib.axes._subplots.AxesSubplot object at 0x7fe2351759b0>,\n",
              "        <matplotlib.axes._subplots.AxesSubplot object at 0x7fe23d1fcfd0>,\n",
              "        <matplotlib.axes._subplots.AxesSubplot object at 0x7fe22c6fef28>],\n",
              "       [<matplotlib.axes._subplots.AxesSubplot object at 0x7fe23d2ad1d0>,\n",
              "        <matplotlib.axes._subplots.AxesSubplot object at 0x7fe23d272438>,\n",
              "        <matplotlib.axes._subplots.AxesSubplot object at 0x7fe23d2276a0>,\n",
              "        <matplotlib.axes._subplots.AxesSubplot object at 0x7fe22c6ae908>]],\n",
              "      dtype=object)"
            ]
          },
          "metadata": {
            "tags": []
          },
          "execution_count": 75
        },
        {
          "output_type": "display_data",
          "data": {
            "image/png": "[encoded data removed]",
            "text/plain": [
              "<Figure size 1152x1440 with 16 Axes>"
            ]
          },
          "metadata": {
            "tags": []
          }
        }
      ]
    },
    {
      "cell_type": "code",
      "metadata": {
        "colab": {
          "base_uri": "https://localhost:8080/",
          "height": 917
        },
        "id": "dbuVlk3KsVwh",
        "outputId": "a74965d7-4fd0-4941-8bcd-0cd4ac94e815"
      },
      "source": [
        "for i in range(0, len(desarrll[columnas_numericas].columns), 3):\n",
        "    sns.pairplot(data=desarrll[columnas_numericas],\n",
        "                x_vars=desarrll[columnas_numericas].columns[i:i+3],\n",
        "                y_vars=['EDAD'])"
      ],
      "execution_count": null,
      "outputs": [
        {
          "output_type": "display_data",
          "data": {
            "image/png": "[encoded data removed]",
            "text/plain": [
              "<Figure size 540x180 with 4 Axes>"
            ]
          },
          "metadata": {
            "tags": []
          }
        },
        {
          "output_type": "display_data",
          "data": {
            "image/png": "[encoded data removed]",
            "text/plain": [
              "<Figure size 540x180 with 3 Axes>"
            ]
          },
          "metadata": {
            "tags": []
          }
        },
        {
          "output_type": "display_data",
          "data": {
            "image/png": "[encoded data removed]",
            "text/plain": [
              "<Figure size 540x180 with 3 Axes>"
            ]
          },
          "metadata": {
            "tags": []
          }
        },
        {
          "output_type": "display_data",
          "data": {
            "image/png": "[encoded data removed]",
            "text/plain": [
              "<Figure size 540x180 with 3 Axes>"
            ]
          },
          "metadata": {
            "tags": []
          }
        },
        {
          "output_type": "display_data",
          "data": {
            "image/png": "[encoded data removed]",
            "text/plain": [
              "<Figure size 360x180 with 2 Axes>"
            ]
          },
          "metadata": {
            "tags": []
          }
        }
      ]
    },
    {
      "cell_type": "markdown",
      "metadata": {
        "id": "1XxQYzRvCyaM"
      },
      "source": [
        "### 6.Visualizacion de valores missings"
      ]
    },
    {
      "cell_type": "code",
      "metadata": {
        "id": "HTsBWbR6DL3r"
      },
      "source": [
        "# Importamos librerias\n",
        "import numpy as np\n",
        "import pandas as pd\n",
        "\n",
        "# Para graficas\n",
        "import seaborn as sns\n",
        "import matplotlib.pyplot as plt"
      ],
      "execution_count": null,
      "outputs": []
    },
    {
      "cell_type": "code",
      "metadata": {
        "colab": {
          "base_uri": "https://localhost:8080/",
          "height": 357
        },
        "id": "J3GGnWgPJJZl",
        "outputId": "8a1bf1ae-de56-4532-d736-64dbf8389234"
      },
      "source": [
        "# Usando libreria missingno\n",
        "import missingno as msno\n",
        "\n",
        "msno.matrix(desarrll)"
      ],
      "execution_count": null,
      "outputs": [
        {
          "output_type": "execute_result",
          "data": {
            "text/plain": [
              "<matplotlib.axes._subplots.AxesSubplot at 0x7f84c7110358>"
            ]
          },
          "metadata": {
            "tags": []
          },
          "execution_count": 26
        },
        {
          "output_type": "display_data",
          "data": {
            "image/png": "[encoded data removed]",
            "text/plain": [
              "<Figure size 1800x720 with 2 Axes>"
            ]
          },
          "metadata": {
            "tags": []
          }
        }
      ]
    },
    {
      "cell_type": "code",
      "metadata": {
        "colab": {
          "base_uri": "https://localhost:8080/",
          "height": 725
        },
        "id": "QIFFf2QwC3p7",
        "outputId": "86f5d50b-b4c2-42b6-c7a2-1cf07d583ed6"
      },
      "source": [
        "fig, ax1 = plt.subplots(figsize=(15,15))\n",
        "fig.subplots_adjust(wspace = 0.1)\n",
        "\n",
        "ax1 = sns.heatmap(desarrll.isnull(), cbar=False)"
      ],
      "execution_count": null,
      "outputs": [
        {
          "output_type": "display_data",
          "data": {
            "image/png": "[encoded data removed]",
            "text/plain": [
              "<Figure size 1080x1080 with 1 Axes>"
            ]
          },
          "metadata": {
            "tags": []
          }
        }
      ]
    },
    {
      "cell_type": "markdown",
      "metadata": {
        "id": "34fkAshz66dO"
      },
      "source": [
        "### 7.Tratamiento de valores missings"
      ]
    },
    {
      "cell_type": "code",
      "metadata": {
        "colab": {
          "base_uri": "https://localhost:8080/"
        },
        "id": "TbkcrQ6lKHrE",
        "outputId": "581c126f-5fc8-4bfe-c7cd-56cb349d1ec2"
      },
      "source": [
        "desarrll.isnull().sum()"
      ],
      "execution_count": null,
      "outputs": [
        {
          "output_type": "execute_result",
          "data": {
            "text/plain": [
              "ID                          0\n",
              "GENERO                      0\n",
              "ESTADO_CIVIL                0\n",
              "EDAD                        0\n",
              "GRADO_INSTRUCCION           0\n",
              "CONDICION_VIVIENDA          0\n",
              "NUMERO_DEPENDIENTES         0\n",
              "DPTO_DOMICILIO              0\n",
              "ANTIGUEDAD_DOMICILIO        0\n",
              "TIPO_TRABAJADOR             0\n",
              "TIENE_VEHIVULO              0\n",
              "LIQUIDEZDISPONIBLE          0\n",
              "ACTIVIDAD_ECONOMICA         0\n",
              "DEUDAS_NEGATIVAS            0\n",
              "T_D_AC_VEN_MA30_3M          0\n",
              "RT_N_ENT_M0_3M              0\n",
              "ANTIGUEDAD_LABORAL          0\n",
              "UTILIDADOPERATIVA           0\n",
              "VENTASNETAS                 0\n",
              "ENDEUDAMIENTOPATRIMONIAL    0\n",
              "MARGENOPERATIVO             0\n",
              "CICLOFINANCIERO             0\n",
              "SEGMENTO                    0\n",
              "TARGET                      0\n",
              "dtype: int64"
            ]
          },
          "metadata": {
            "tags": []
          },
          "execution_count": 18
        }
      ]
    },
    {
      "cell_type": "markdown",
      "metadata": {
        "id": "jZjNtfPfKmn-"
      },
      "source": [
        "### 8.Particion Muestral"
      ]
    },
    {
      "cell_type": "markdown",
      "metadata": {
        "id": "UpWpzRaiKJkj"
      },
      "source": [
        "[Modeling](ttps://es.quora.com/Qu%C3%A9-es-el-escenario-de-entrenamiento-validaci%C3%B3n-y-prueba-de-conjuntos-de-datos-en-aprendizaje-autom%C3%A1tico)"
      ]
    },
    {
      "cell_type": "markdown",
      "metadata": {
        "id": "n2EmfgdWKRgc"
      },
      "source": [
        "![image.png](data:image/png;base64,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)"
      ]
    },
    {
      "cell_type": "code",
      "metadata": {
        "id": "pWBBQDI7KOb8"
      },
      "source": [
        "# Le quitamos la variable Loan_ID o identificador único para poder modelar la información\n",
        "desarrll = desarrll.drop('ID', axis=1) # Axis=1\n"
      ],
      "execution_count": null,
      "outputs": []
    },
    {
      "cell_type": "code",
      "metadata": {
        "colab": {
          "base_uri": "https://localhost:8080/",
          "height": 224
        },
        "id": "IS8JZkm4cuuR",
        "outputId": "cbf2704e-6d92-4b57-df7e-9b35e1d6620b"
      },
      "source": [
        "desarrll.head(5)"
      ],
      "execution_count": null,
      "outputs": [
        {
          "output_type": "execute_result",
          "data": {
            "text/html": [
              "<div>\n",
              "<style scoped>\n",
              "    .dataframe tbody tr th:only-of-type {\n",
              "        vertical-align: middle;\n",
              "    }\n",
              "\n",
              "    .dataframe tbody tr th {\n",
              "        vertical-align: top;\n",
              "    }\n",
              "\n",
              "    .dataframe thead th {\n",
              "        text-align: right;\n",
              "    }\n",
              "</style>\n",
              "<table border=\"1\" class=\"dataframe\">\n",
              "  <thead>\n",
              "    <tr style=\"text-align: right;\">\n",
              "      <th></th>\n",
              "      <th>GENERO</th>\n",
              "      <th>ESTADO_CIVIL</th>\n",
              "      <th>EDAD</th>\n",
              "      <th>GRADO_INSTRUCCION</th>\n",
              "      <th>CONDICION_VIVIENDA</th>\n",
              "      <th>NUMERO_DEPENDIENTES</th>\n",
              "      <th>DPTO_DOMICILIO</th>\n",
              "      <th>ANTIGUEDAD_DOMICILIO</th>\n",
              "      <th>TIPO_TRABAJADOR</th>\n",
              "      <th>TIENE_VEHIVULO</th>\n",
              "      <th>LIQUIDEZDISPONIBLE</th>\n",
              "      <th>ACTIVIDAD_ECONOMICA</th>\n",
              "      <th>DEUDAS_NEGATIVAS</th>\n",
              "      <th>T_D_AC_VEN_MA30_3M</th>\n",
              "      <th>RT_N_ENT_M0_3M</th>\n",
              "      <th>ANTIGUEDAD_LABORAL</th>\n",
              "      <th>UTILIDADOPERATIVA</th>\n",
              "      <th>VENTASNETAS</th>\n",
              "      <th>ENDEUDAMIENTOPATRIMONIAL</th>\n",
              "      <th>MARGENOPERATIVO</th>\n",
              "      <th>CICLOFINANCIERO</th>\n",
              "      <th>SEGMENTO</th>\n",
              "      <th>TARGET</th>\n",
              "    </tr>\n",
              "  </thead>\n",
              "  <tbody>\n",
              "    <tr>\n",
              "      <th>0</th>\n",
              "      <td>0</td>\n",
              "      <td>2</td>\n",
              "      <td>38</td>\n",
              "      <td>0</td>\n",
              "      <td>2</td>\n",
              "      <td>2</td>\n",
              "      <td>13</td>\n",
              "      <td>16</td>\n",
              "      <td>1</td>\n",
              "      <td>0</td>\n",
              "      <td>1139.00</td>\n",
              "      <td>2</td>\n",
              "      <td>0</td>\n",
              "      <td>0</td>\n",
              "      <td>0</td>\n",
              "      <td>16</td>\n",
              "      <td>1895.00</td>\n",
              "      <td>7960.0</td>\n",
              "      <td>0.22</td>\n",
              "      <td>26.91</td>\n",
              "      <td>59.67</td>\n",
              "      <td>2</td>\n",
              "      <td>0</td>\n",
              "    </tr>\n",
              "    <tr>\n",
              "      <th>1</th>\n",
              "      <td>0</td>\n",
              "      <td>2</td>\n",
              "      <td>39</td>\n",
              "      <td>0</td>\n",
              "      <td>2</td>\n",
              "      <td>2</td>\n",
              "      <td>14</td>\n",
              "      <td>4</td>\n",
              "      <td>1</td>\n",
              "      <td>0</td>\n",
              "      <td>2877.37</td>\n",
              "      <td>17</td>\n",
              "      <td>0</td>\n",
              "      <td>0</td>\n",
              "      <td>0</td>\n",
              "      <td>5</td>\n",
              "      <td>3957.37</td>\n",
              "      <td>1480.0</td>\n",
              "      <td>0.22</td>\n",
              "      <td>29.98</td>\n",
              "      <td>65.21</td>\n",
              "      <td>3</td>\n",
              "      <td>0</td>\n",
              "    </tr>\n",
              "    <tr>\n",
              "      <th>2</th>\n",
              "      <td>1</td>\n",
              "      <td>0</td>\n",
              "      <td>46</td>\n",
              "      <td>2</td>\n",
              "      <td>2</td>\n",
              "      <td>3</td>\n",
              "      <td>5</td>\n",
              "      <td>26</td>\n",
              "      <td>1</td>\n",
              "      <td>0</td>\n",
              "      <td>888.00</td>\n",
              "      <td>10</td>\n",
              "      <td>0</td>\n",
              "      <td>0</td>\n",
              "      <td>0</td>\n",
              "      <td>5</td>\n",
              "      <td>1338.00</td>\n",
              "      <td>2880.0</td>\n",
              "      <td>0.22</td>\n",
              "      <td>24.77</td>\n",
              "      <td>30.00</td>\n",
              "      <td>1</td>\n",
              "      <td>0</td>\n",
              "    </tr>\n",
              "    <tr>\n",
              "      <th>3</th>\n",
              "      <td>0</td>\n",
              "      <td>2</td>\n",
              "      <td>23</td>\n",
              "      <td>3</td>\n",
              "      <td>1</td>\n",
              "      <td>0</td>\n",
              "      <td>12</td>\n",
              "      <td>16</td>\n",
              "      <td>1</td>\n",
              "      <td>0</td>\n",
              "      <td>2373.00</td>\n",
              "      <td>10</td>\n",
              "      <td>0</td>\n",
              "      <td>0</td>\n",
              "      <td>0</td>\n",
              "      <td>5</td>\n",
              "      <td>3350.00</td>\n",
              "      <td>1800.0</td>\n",
              "      <td>0.22</td>\n",
              "      <td>72.82</td>\n",
              "      <td>25.80</td>\n",
              "      <td>3</td>\n",
              "      <td>0</td>\n",
              "    </tr>\n",
              "    <tr>\n",
              "      <th>4</th>\n",
              "      <td>0</td>\n",
              "      <td>0</td>\n",
              "      <td>34</td>\n",
              "      <td>0</td>\n",
              "      <td>1</td>\n",
              "      <td>3</td>\n",
              "      <td>14</td>\n",
              "      <td>16</td>\n",
              "      <td>1</td>\n",
              "      <td>0</td>\n",
              "      <td>1353.06</td>\n",
              "      <td>2</td>\n",
              "      <td>0</td>\n",
              "      <td>0</td>\n",
              "      <td>0</td>\n",
              "      <td>5</td>\n",
              "      <td>2003.60</td>\n",
              "      <td>82800.0</td>\n",
              "      <td>0.22</td>\n",
              "      <td>17.27</td>\n",
              "      <td>8.77</td>\n",
              "      <td>3</td>\n",
              "      <td>0</td>\n",
              "    </tr>\n",
              "  </tbody>\n",
              "</table>\n",
              "</div>"
            ],
            "text/plain": [
              "   GENERO  ESTADO_CIVIL  EDAD  ...  CICLOFINANCIERO  SEGMENTO  TARGET\n",
              "0       0             2    38  ...            59.67         2       0\n",
              "1       0             2    39  ...            65.21         3       0\n",
              "2       1             0    46  ...            30.00         1       0\n",
              "3       0             2    23  ...            25.80         3       0\n",
              "4       0             0    34  ...             8.77         3       0\n",
              "\n",
              "[5 rows x 23 columns]"
            ]
          },
          "metadata": {
            "tags": []
          },
          "execution_count": 14
        }
      ]
    },
    {
      "cell_type": "code",
      "metadata": {
        "colab": {
          "base_uri": "https://localhost:8080/"
        },
        "id": "Y4Xr9S2ALAOt",
        "outputId": "94eb10cb-0ee2-4b7f-9cc1-e109d4bd87da"
      },
      "source": [
        "desarrll.TARGET.value_counts()"
      ],
      "execution_count": null,
      "outputs": [
        {
          "output_type": "execute_result",
          "data": {
            "text/plain": [
              "0    7726\n",
              "1     760\n",
              "Name: TARGET, dtype: int64"
            ]
          },
          "metadata": {
            "tags": []
          },
          "execution_count": 15
        }
      ]
    },
    {
      "cell_type": "markdown",
      "metadata": {
        "id": "OicaZOBVemvy"
      },
      "source": [
        "#### 8.1 Division de los datos train/test 70/30"
      ]
    },
    {
      "cell_type": "code",
      "metadata": {
        "id": "W8SYy7FLK19U"
      },
      "source": [
        "## Si deseamos balancear, podemos hacerlo con toda la informacion?\n",
        "# Creación de la data de train y la data de test\n",
        "from sklearn.model_selection import train_test_split\n",
        "X_train, X_test, y_train, y_test = train_test_split(desarrll.drop('TARGET', axis=1),\n",
        "                                                    desarrll['TARGET'],\n",
        "                                                    test_size=0.30,\n",
        "                                                    stratify=desarrll['TARGET'],\n",
        "                                                    random_state=100)"
      ],
      "execution_count": null,
      "outputs": []
    },
    {
      "cell_type": "code",
      "metadata": {
        "colab": {
          "base_uri": "https://localhost:8080/"
        },
        "id": "6B4XgBYcehhJ",
        "outputId": "9df024cf-fc9f-471e-8f30-696f38902454"
      },
      "source": [
        "X_train.dtypes"
      ],
      "execution_count": null,
      "outputs": [
        {
          "output_type": "execute_result",
          "data": {
            "text/plain": [
              "GENERO                        int64\n",
              "ESTADO_CIVIL                  int64\n",
              "EDAD                          int64\n",
              "GRADO_INSTRUCCION             int64\n",
              "CONDICION_VIVIENDA            int64\n",
              "NUMERO_DEPENDIENTES           int64\n",
              "DPTO_DOMICILIO                int64\n",
              "ANTIGUEDAD_DOMICILIO          int64\n",
              "TIPO_TRABAJADOR               int64\n",
              "TIENE_VEHIVULO                int64\n",
              "LIQUIDEZDISPONIBLE          float64\n",
              "ACTIVIDAD_ECONOMICA           int64\n",
              "DEUDAS_NEGATIVAS              int64\n",
              "T_D_AC_VEN_MA30_3M            int64\n",
              "RT_N_ENT_M0_3M                int64\n",
              "ANTIGUEDAD_LABORAL            int64\n",
              "UTILIDADOPERATIVA           float64\n",
              "VENTASNETAS                 float64\n",
              "ENDEUDAMIENTOPATRIMONIAL    float64\n",
              "MARGENOPERATIVO             float64\n",
              "CICLOFINANCIERO             float64\n",
              "SEGMENTO                      int64\n",
              "dtype: object"
            ]
          },
          "metadata": {
            "tags": []
          },
          "execution_count": 26
        }
      ]
    },
    {
      "cell_type": "code",
      "metadata": {
        "colab": {
          "base_uri": "https://localhost:8080/"
        },
        "id": "Dov9T0iVejDp",
        "outputId": "3f63220e-c3db-455d-966a-320a48dd020e"
      },
      "source": [
        "y_train.dtypes"
      ],
      "execution_count": null,
      "outputs": [
        {
          "output_type": "execute_result",
          "data": {
            "text/plain": [
              "dtype('int64')"
            ]
          },
          "metadata": {
            "tags": []
          },
          "execution_count": 17
        }
      ]
    },
    {
      "cell_type": "code",
      "metadata": {
        "colab": {
          "base_uri": "https://localhost:8080/",
          "height": 224
        },
        "id": "97JD3yih0Blt",
        "outputId": "ec97507b-d3fa-4bde-af6b-7451f9fea222"
      },
      "source": [
        "train=pd.concat([X_train, y_train], axis=1)\n",
        "train.head()"
      ],
      "execution_count": null,
      "outputs": [
        {
          "output_type": "execute_result",
          "data": {
            "text/html": [
              "<div>\n",
              "<style scoped>\n",
              "    .dataframe tbody tr th:only-of-type {\n",
              "        vertical-align: middle;\n",
              "    }\n",
              "\n",
              "    .dataframe tbody tr th {\n",
              "        vertical-align: top;\n",
              "    }\n",
              "\n",
              "    .dataframe thead th {\n",
              "        text-align: right;\n",
              "    }\n",
              "</style>\n",
              "<table border=\"1\" class=\"dataframe\">\n",
              "  <thead>\n",
              "    <tr style=\"text-align: right;\">\n",
              "      <th></th>\n",
              "      <th>GENERO</th>\n",
              "      <th>ESTADO_CIVIL</th>\n",
              "      <th>EDAD</th>\n",
              "      <th>GRADO_INSTRUCCION</th>\n",
              "      <th>CONDICION_VIVIENDA</th>\n",
              "      <th>NUMERO_DEPENDIENTES</th>\n",
              "      <th>DPTO_DOMICILIO</th>\n",
              "      <th>ANTIGUEDAD_DOMICILIO</th>\n",
              "      <th>TIPO_TRABAJADOR</th>\n",
              "      <th>TIENE_VEHIVULO</th>\n",
              "      <th>LIQUIDEZDISPONIBLE</th>\n",
              "      <th>ACTIVIDAD_ECONOMICA</th>\n",
              "      <th>DEUDAS_NEGATIVAS</th>\n",
              "      <th>T_D_AC_VEN_MA30_3M</th>\n",
              "      <th>RT_N_ENT_M0_3M</th>\n",
              "      <th>ANTIGUEDAD_LABORAL</th>\n",
              "      <th>UTILIDADOPERATIVA</th>\n",
              "      <th>VENTASNETAS</th>\n",
              "      <th>ENDEUDAMIENTOPATRIMONIAL</th>\n",
              "      <th>MARGENOPERATIVO</th>\n",
              "      <th>CICLOFINANCIERO</th>\n",
              "      <th>SEGMENTO</th>\n",
              "      <th>TARGET</th>\n",
              "    </tr>\n",
              "  </thead>\n",
              "  <tbody>\n",
              "    <tr>\n",
              "      <th>189</th>\n",
              "      <td>1</td>\n",
              "      <td>0</td>\n",
              "      <td>35</td>\n",
              "      <td>0</td>\n",
              "      <td>2</td>\n",
              "      <td>2</td>\n",
              "      <td>14</td>\n",
              "      <td>16</td>\n",
              "      <td>1</td>\n",
              "      <td>0</td>\n",
              "      <td>2100.00</td>\n",
              "      <td>10</td>\n",
              "      <td>0</td>\n",
              "      <td>0</td>\n",
              "      <td>1</td>\n",
              "      <td>5</td>\n",
              "      <td>2480.00</td>\n",
              "      <td>5016.0</td>\n",
              "      <td>0.22</td>\n",
              "      <td>3.10</td>\n",
              "      <td>32.00</td>\n",
              "      <td>3</td>\n",
              "      <td>0</td>\n",
              "    </tr>\n",
              "    <tr>\n",
              "      <th>3390</th>\n",
              "      <td>0</td>\n",
              "      <td>0</td>\n",
              "      <td>59</td>\n",
              "      <td>0</td>\n",
              "      <td>2</td>\n",
              "      <td>2</td>\n",
              "      <td>13</td>\n",
              "      <td>11</td>\n",
              "      <td>1</td>\n",
              "      <td>0</td>\n",
              "      <td>437.55</td>\n",
              "      <td>24</td>\n",
              "      <td>0</td>\n",
              "      <td>0</td>\n",
              "      <td>0</td>\n",
              "      <td>5</td>\n",
              "      <td>1427.55</td>\n",
              "      <td>3100.0</td>\n",
              "      <td>0.22</td>\n",
              "      <td>46.05</td>\n",
              "      <td>43.40</td>\n",
              "      <td>2</td>\n",
              "      <td>0</td>\n",
              "    </tr>\n",
              "    <tr>\n",
              "      <th>5210</th>\n",
              "      <td>0</td>\n",
              "      <td>2</td>\n",
              "      <td>47</td>\n",
              "      <td>0</td>\n",
              "      <td>0</td>\n",
              "      <td>0</td>\n",
              "      <td>12</td>\n",
              "      <td>8</td>\n",
              "      <td>1</td>\n",
              "      <td>0</td>\n",
              "      <td>477.00</td>\n",
              "      <td>2</td>\n",
              "      <td>0</td>\n",
              "      <td>0</td>\n",
              "      <td>0</td>\n",
              "      <td>9</td>\n",
              "      <td>842.00</td>\n",
              "      <td>4080.0</td>\n",
              "      <td>0.22</td>\n",
              "      <td>20.63</td>\n",
              "      <td>31.61</td>\n",
              "      <td>3</td>\n",
              "      <td>0</td>\n",
              "    </tr>\n",
              "    <tr>\n",
              "      <th>5946</th>\n",
              "      <td>0</td>\n",
              "      <td>0</td>\n",
              "      <td>43</td>\n",
              "      <td>3</td>\n",
              "      <td>1</td>\n",
              "      <td>0</td>\n",
              "      <td>14</td>\n",
              "      <td>16</td>\n",
              "      <td>1</td>\n",
              "      <td>0</td>\n",
              "      <td>2075.00</td>\n",
              "      <td>7</td>\n",
              "      <td>0</td>\n",
              "      <td>1</td>\n",
              "      <td>0</td>\n",
              "      <td>7</td>\n",
              "      <td>2590.00</td>\n",
              "      <td>19600.0</td>\n",
              "      <td>0.22</td>\n",
              "      <td>13.21</td>\n",
              "      <td>17.49</td>\n",
              "      <td>3</td>\n",
              "      <td>0</td>\n",
              "    </tr>\n",
              "    <tr>\n",
              "      <th>1395</th>\n",
              "      <td>0</td>\n",
              "      <td>2</td>\n",
              "      <td>23</td>\n",
              "      <td>3</td>\n",
              "      <td>1</td>\n",
              "      <td>0</td>\n",
              "      <td>10</td>\n",
              "      <td>5</td>\n",
              "      <td>1</td>\n",
              "      <td>0</td>\n",
              "      <td>453.60</td>\n",
              "      <td>24</td>\n",
              "      <td>0</td>\n",
              "      <td>1</td>\n",
              "      <td>0</td>\n",
              "      <td>5</td>\n",
              "      <td>1198.60</td>\n",
              "      <td>7500.0</td>\n",
              "      <td>0.22</td>\n",
              "      <td>37.93</td>\n",
              "      <td>68.80</td>\n",
              "      <td>2</td>\n",
              "      <td>0</td>\n",
              "    </tr>\n",
              "  </tbody>\n",
              "</table>\n",
              "</div>"
            ],
            "text/plain": [
              "      GENERO  ESTADO_CIVIL  EDAD  ...  CICLOFINANCIERO  SEGMENTO  TARGET\n",
              "189        1             0    35  ...            32.00         3       0\n",
              "3390       0             0    59  ...            43.40         2       0\n",
              "5210       0             2    47  ...            31.61         3       0\n",
              "5946       0             0    43  ...            17.49         3       0\n",
              "1395       0             2    23  ...            68.80         2       0\n",
              "\n",
              "[5 rows x 23 columns]"
            ]
          },
          "metadata": {
            "tags": []
          },
          "execution_count": 47
        }
      ]
    },
    {
      "cell_type": "code",
      "metadata": {
        "colab": {
          "base_uri": "https://localhost:8080/"
        },
        "id": "JD3fKi7o0O7y",
        "outputId": "6a46e87a-8aa7-4611-d1db-e7b54377875a"
      },
      "source": [
        "# Puedo corroborar que en mi data de train sigo teniendo el desbalance\n",
        "train.TARGET.value_counts()"
      ],
      "execution_count": null,
      "outputs": [
        {
          "output_type": "execute_result",
          "data": {
            "text/plain": [
              "0    5408\n",
              "1     532\n",
              "Name: TARGET, dtype: int64"
            ]
          },
          "metadata": {
            "tags": []
          },
          "execution_count": 48
        }
      ]
    },
    {
      "cell_type": "markdown",
      "metadata": {
        "id": "uQXvz-Hs0_sa"
      },
      "source": [
        "### 9.Balanceo de datos"
      ]
    },
    {
      "cell_type": "markdown",
      "metadata": {
        "id": "VmrQt08e1HNN"
      },
      "source": [
        "#### 9.1 Remuestreo"
      ]
    },
    {
      "cell_type": "code",
      "metadata": {
        "colab": {
          "base_uri": "https://localhost:8080/",
          "height": 346
        },
        "id": "9DEdwQHp1CW5",
        "outputId": "e0a77c83-e7f5-49ee-8ee8-7a54bacdbaed"
      },
      "source": [
        "## Podemos hacer el balanceo de manera artesanal , para entender las lógicas.\n",
        "\n",
        "import numpy as np\n",
        "import pandas as pd\n",
        "import seaborn as sns\n",
        "\n",
        "target_count = train.TARGET.value_counts()\n",
        "print('Clase 0:', target_count[0])\n",
        "print('Clase 1:', target_count[1])\n",
        "\n",
        "print('Proportion Clase 0:', round(target_count[0] / (target_count[0]+target_count[1]), 2), ': 0')\n",
        "print('Proportion Clase 1:', round(target_count[1] / (target_count[0]+target_count[1]), 2), ': 1')\n",
        "\n",
        "\n",
        "target_count.plot(kind='bar', title='Count (target)');\n"
      ],
      "execution_count": null,
      "outputs": [
        {
          "output_type": "stream",
          "text": [
            "Clase 0: 5408\n",
            "Clase 1: 532\n",
            "Proportion Clase 0: 0.91 : 0\n",
            "Proportion Clase 1: 0.09 : 1\n"
          ],
          "name": "stdout"
        },
        {
          "output_type": "display_data",
          "data": {
            "image/png": "[encoded data removed]",
            "text/plain": [
              "<Figure size 432x288 with 1 Axes>"
            ]
          },
          "metadata": {
            "tags": []
          }
        }
      ]
    },
    {
      "cell_type": "code",
      "metadata": {
        "id": "R83nbv1l1ZBB"
      },
      "source": [
        "# Conteo de las Clases\n",
        "# La clase 1 es la de los préstamos otorgados , tenemos 532 préstamos otorgados\n",
        "# La clase 0 es la de los préstamos no otorgados , tenemos 5408 préstamos no otorgados\n",
        "count_class_1,count_class_0 = train.TARGET.value_counts()\n",
        "\n",
        "# Dividimos las Clases\n",
        "df_class_0 = train[train['TARGET'] == 0]\n",
        "df_class_1 = train[train['TARGET'] == 1]\n",
        "\n",
        "## Podemos visualizar el contenido del objeto df_class_1.head(5)"
      ],
      "execution_count": null,
      "outputs": []
    },
    {
      "cell_type": "code",
      "metadata": {
        "colab": {
          "base_uri": "https://localhost:8080/"
        },
        "id": "m9mpYck14gl3",
        "outputId": "01acf8ec-cb32-4e61-deed-45d935a1561e"
      },
      "source": [
        "count_class_1,count_class_0 = train.TARGET.value_counts()\n",
        "count_class_1\n"
      ],
      "execution_count": null,
      "outputs": [
        {
          "output_type": "execute_result",
          "data": {
            "text/plain": [
              "5408"
            ]
          },
          "metadata": {
            "tags": []
          },
          "execution_count": 38
        }
      ]
    },
    {
      "cell_type": "code",
      "metadata": {
        "colab": {
          "base_uri": "https://localhost:8080/",
          "height": 275
        },
        "id": "WSlTlyM41-Bd",
        "outputId": "a95ba1bf-7e37-4500-beba-04c9e415c103"
      },
      "source": [
        "#Clase 1: 532\n",
        "#count_class_0 =532\n",
        "df_class_1.head(5)"
      ],
      "execution_count": null,
      "outputs": [
        {
          "output_type": "execute_result",
          "data": {
            "text/html": [
              "<div>\n",
              "<style scoped>\n",
              "    .dataframe tbody tr th:only-of-type {\n",
              "        vertical-align: middle;\n",
              "    }\n",
              "\n",
              "    .dataframe tbody tr th {\n",
              "        vertical-align: top;\n",
              "    }\n",
              "\n",
              "    .dataframe thead th {\n",
              "        text-align: right;\n",
              "    }\n",
              "</style>\n",
              "<table border=\"1\" class=\"dataframe\">\n",
              "  <thead>\n",
              "    <tr style=\"text-align: right;\">\n",
              "      <th></th>\n",
              "      <th>GENERO</th>\n",
              "      <th>ESTADO_CIVIL</th>\n",
              "      <th>EDAD</th>\n",
              "      <th>GRADO_INSTRUCCION</th>\n",
              "      <th>CONDICION_VIVIENDA</th>\n",
              "      <th>NUMERO_DEPENDIENTES</th>\n",
              "      <th>DPTO_DOMICILIO</th>\n",
              "      <th>ANTIGUEDAD_DOMICILIO</th>\n",
              "      <th>TIPO_TRABAJADOR</th>\n",
              "      <th>TIENE_VEHIVULO</th>\n",
              "      <th>LIQUIDEZDISPONIBLE</th>\n",
              "      <th>ACTIVIDAD_ECONOMICA</th>\n",
              "      <th>DEUDAS_NEGATIVAS</th>\n",
              "      <th>T_D_AC_VEN_MA30_3M</th>\n",
              "      <th>RT_N_ENT_M0_3M</th>\n",
              "      <th>ANTIGUEDAD_LABORAL</th>\n",
              "      <th>UTILIDADOPERATIVA</th>\n",
              "      <th>VENTASNETAS</th>\n",
              "      <th>ENDEUDAMIENTOPATRIMONIAL</th>\n",
              "      <th>MARGENOPERATIVO</th>\n",
              "      <th>CICLOFINANCIERO</th>\n",
              "      <th>SEGMENTO</th>\n",
              "      <th>TARGET</th>\n",
              "    </tr>\n",
              "  </thead>\n",
              "  <tbody>\n",
              "    <tr>\n",
              "      <th>7244</th>\n",
              "      <td>M</td>\n",
              "      <td>S</td>\n",
              "      <td>36</td>\n",
              "      <td>MEDIO/SECUNDARIA</td>\n",
              "      <td>DE FAMILIAR</td>\n",
              "      <td>3</td>\n",
              "      <td>AMAZONAS</td>\n",
              "      <td>16</td>\n",
              "      <td>INDEPENDIENTE</td>\n",
              "      <td>False</td>\n",
              "      <td>615.0</td>\n",
              "      <td>OTRAS ACTIVIDADES</td>\n",
              "      <td>0</td>\n",
              "      <td>0</td>\n",
              "      <td>0</td>\n",
              "      <td>7</td>\n",
              "      <td>935.0</td>\n",
              "      <td>3625.0</td>\n",
              "      <td>0.22</td>\n",
              "      <td>25.79</td>\n",
              "      <td>188.11</td>\n",
              "      <td>1</td>\n",
              "      <td>1</td>\n",
              "    </tr>\n",
              "    <tr>\n",
              "      <th>6818</th>\n",
              "      <td>M</td>\n",
              "      <td>S</td>\n",
              "      <td>37</td>\n",
              "      <td>MEDIO/SECUNDARIA</td>\n",
              "      <td>PROPIO</td>\n",
              "      <td>2</td>\n",
              "      <td>PIURA</td>\n",
              "      <td>6</td>\n",
              "      <td>INDEPENDIENTE</td>\n",
              "      <td>False</td>\n",
              "      <td>650.0</td>\n",
              "      <td>CULTIVOS AGRICOLAS</td>\n",
              "      <td>0</td>\n",
              "      <td>0</td>\n",
              "      <td>0</td>\n",
              "      <td>7</td>\n",
              "      <td>1500.0</td>\n",
              "      <td>3200.0</td>\n",
              "      <td>0.22</td>\n",
              "      <td>46.87</td>\n",
              "      <td>37.50</td>\n",
              "      <td>2</td>\n",
              "      <td>1</td>\n",
              "    </tr>\n",
              "    <tr>\n",
              "      <th>1678</th>\n",
              "      <td>F</td>\n",
              "      <td>S</td>\n",
              "      <td>38</td>\n",
              "      <td>MEDIO/SECUNDARIA</td>\n",
              "      <td>DE FAMILIAR</td>\n",
              "      <td>1</td>\n",
              "      <td>LA LIBERTAD</td>\n",
              "      <td>6</td>\n",
              "      <td>INDEPENDIENTE</td>\n",
              "      <td>False</td>\n",
              "      <td>982.0</td>\n",
              "      <td>OTRAS ACTIVIDADES</td>\n",
              "      <td>0</td>\n",
              "      <td>0</td>\n",
              "      <td>0</td>\n",
              "      <td>5</td>\n",
              "      <td>1580.0</td>\n",
              "      <td>1820.0</td>\n",
              "      <td>0.22</td>\n",
              "      <td>31.60</td>\n",
              "      <td>30.00</td>\n",
              "      <td>3</td>\n",
              "      <td>1</td>\n",
              "    </tr>\n",
              "    <tr>\n",
              "      <th>6921</th>\n",
              "      <td>F</td>\n",
              "      <td>S</td>\n",
              "      <td>24</td>\n",
              "      <td>TECNICO</td>\n",
              "      <td>DE FAMILIAR</td>\n",
              "      <td>1</td>\n",
              "      <td>LIMA</td>\n",
              "      <td>16</td>\n",
              "      <td>INDEPENDIENTE</td>\n",
              "      <td>False</td>\n",
              "      <td>1063.9</td>\n",
              "      <td>PELUQUERIA</td>\n",
              "      <td>0</td>\n",
              "      <td>1</td>\n",
              "      <td>0</td>\n",
              "      <td>3</td>\n",
              "      <td>2994.4</td>\n",
              "      <td>9120.0</td>\n",
              "      <td>0.11</td>\n",
              "      <td>32.83</td>\n",
              "      <td>46.68</td>\n",
              "      <td>3</td>\n",
              "      <td>1</td>\n",
              "    </tr>\n",
              "    <tr>\n",
              "      <th>3348</th>\n",
              "      <td>M</td>\n",
              "      <td>S</td>\n",
              "      <td>41</td>\n",
              "      <td>TECNICO</td>\n",
              "      <td>ALQUILADO</td>\n",
              "      <td>0</td>\n",
              "      <td>ICA</td>\n",
              "      <td>6</td>\n",
              "      <td>INDEPENDIENTE</td>\n",
              "      <td>False</td>\n",
              "      <td>258.0</td>\n",
              "      <td>VENTA DE VERDURAS Y FRUTAS</td>\n",
              "      <td>0</td>\n",
              "      <td>0</td>\n",
              "      <td>0</td>\n",
              "      <td>5</td>\n",
              "      <td>1413.0</td>\n",
              "      <td>3440.0</td>\n",
              "      <td>0.22</td>\n",
              "      <td>41.07</td>\n",
              "      <td>4.75</td>\n",
              "      <td>2</td>\n",
              "      <td>1</td>\n",
              "    </tr>\n",
              "  </tbody>\n",
              "</table>\n",
              "</div>"
            ],
            "text/plain": [
              "     GENERO ESTADO_CIVIL  EDAD  ... CICLOFINANCIERO SEGMENTO  TARGET\n",
              "7244      M            S    36  ...          188.11        1       1\n",
              "6818      M            S    37  ...           37.50        2       1\n",
              "1678      F            S    38  ...           30.00        3       1\n",
              "6921      F            S    24  ...           46.68        3       1\n",
              "3348      M            S    41  ...            4.75        2       1\n",
              "\n",
              "[5 rows x 23 columns]"
            ]
          },
          "metadata": {
            "tags": []
          },
          "execution_count": 22
        }
      ]
    },
    {
      "cell_type": "code",
      "metadata": {
        "colab": {
          "base_uri": "https://localhost:8080/",
          "height": 258
        },
        "id": "Lqy6iUqx2DIX",
        "outputId": "a148c1b9-3a83-467c-d85d-996816a3d9cb"
      },
      "source": [
        "#Clase 0: 5408\n",
        "#count_class_1 =5408\n",
        "df_class_0.head(5)"
      ],
      "execution_count": null,
      "outputs": [
        {
          "output_type": "execute_result",
          "data": {
            "text/html": [
              "<div>\n",
              "<style scoped>\n",
              "    .dataframe tbody tr th:only-of-type {\n",
              "        vertical-align: middle;\n",
              "    }\n",
              "\n",
              "    .dataframe tbody tr th {\n",
              "        vertical-align: top;\n",
              "    }\n",
              "\n",
              "    .dataframe thead th {\n",
              "        text-align: right;\n",
              "    }\n",
              "</style>\n",
              "<table border=\"1\" class=\"dataframe\">\n",
              "  <thead>\n",
              "    <tr style=\"text-align: right;\">\n",
              "      <th></th>\n",
              "      <th>GENERO</th>\n",
              "      <th>ESTADO_CIVIL</th>\n",
              "      <th>EDAD</th>\n",
              "      <th>GRADO_INSTRUCCION</th>\n",
              "      <th>CONDICION_VIVIENDA</th>\n",
              "      <th>NUMERO_DEPENDIENTES</th>\n",
              "      <th>DPTO_DOMICILIO</th>\n",
              "      <th>ANTIGUEDAD_DOMICILIO</th>\n",
              "      <th>TIPO_TRABAJADOR</th>\n",
              "      <th>TIENE_VEHIVULO</th>\n",
              "      <th>LIQUIDEZDISPONIBLE</th>\n",
              "      <th>ACTIVIDAD_ECONOMICA</th>\n",
              "      <th>DEUDAS_NEGATIVAS</th>\n",
              "      <th>T_D_AC_VEN_MA30_3M</th>\n",
              "      <th>RT_N_ENT_M0_3M</th>\n",
              "      <th>ANTIGUEDAD_LABORAL</th>\n",
              "      <th>UTILIDADOPERATIVA</th>\n",
              "      <th>VENTASNETAS</th>\n",
              "      <th>ENDEUDAMIENTOPATRIMONIAL</th>\n",
              "      <th>MARGENOPERATIVO</th>\n",
              "      <th>CICLOFINANCIERO</th>\n",
              "      <th>SEGMENTO</th>\n",
              "      <th>TARGET</th>\n",
              "    </tr>\n",
              "  </thead>\n",
              "  <tbody>\n",
              "    <tr>\n",
              "      <th>189</th>\n",
              "      <td>M</td>\n",
              "      <td>C</td>\n",
              "      <td>35</td>\n",
              "      <td>MEDIO/SECUNDARIA</td>\n",
              "      <td>PROPIO</td>\n",
              "      <td>2</td>\n",
              "      <td>LIMA</td>\n",
              "      <td>16</td>\n",
              "      <td>INDEPENDIENTE</td>\n",
              "      <td>False</td>\n",
              "      <td>2100.00</td>\n",
              "      <td>OTRAS ACTIVIDADES</td>\n",
              "      <td>0</td>\n",
              "      <td>0</td>\n",
              "      <td>1</td>\n",
              "      <td>5</td>\n",
              "      <td>2480.00</td>\n",
              "      <td>5016.0</td>\n",
              "      <td>0.22</td>\n",
              "      <td>3.10</td>\n",
              "      <td>32.00</td>\n",
              "      <td>3</td>\n",
              "      <td>0</td>\n",
              "    </tr>\n",
              "    <tr>\n",
              "      <th>3390</th>\n",
              "      <td>F</td>\n",
              "      <td>C</td>\n",
              "      <td>59</td>\n",
              "      <td>MEDIO/SECUNDARIA</td>\n",
              "      <td>PROPIO</td>\n",
              "      <td>2</td>\n",
              "      <td>LAMBAYEQUE</td>\n",
              "      <td>11</td>\n",
              "      <td>INDEPENDIENTE</td>\n",
              "      <td>False</td>\n",
              "      <td>437.55</td>\n",
              "      <td>VENTA DE ROPA -TEXTILES</td>\n",
              "      <td>0</td>\n",
              "      <td>0</td>\n",
              "      <td>0</td>\n",
              "      <td>5</td>\n",
              "      <td>1427.55</td>\n",
              "      <td>3100.0</td>\n",
              "      <td>0.22</td>\n",
              "      <td>46.05</td>\n",
              "      <td>43.40</td>\n",
              "      <td>2</td>\n",
              "      <td>0</td>\n",
              "    </tr>\n",
              "    <tr>\n",
              "      <th>5210</th>\n",
              "      <td>F</td>\n",
              "      <td>S</td>\n",
              "      <td>47</td>\n",
              "      <td>MEDIO/SECUNDARIA</td>\n",
              "      <td>ALQUILADO</td>\n",
              "      <td>0</td>\n",
              "      <td>LA LIBERTAD</td>\n",
              "      <td>8</td>\n",
              "      <td>INDEPENDIENTE</td>\n",
              "      <td>False</td>\n",
              "      <td>477.00</td>\n",
              "      <td>BODEGAS</td>\n",
              "      <td>0</td>\n",
              "      <td>0</td>\n",
              "      <td>0</td>\n",
              "      <td>9</td>\n",
              "      <td>842.00</td>\n",
              "      <td>4080.0</td>\n",
              "      <td>0.22</td>\n",
              "      <td>20.63</td>\n",
              "      <td>31.61</td>\n",
              "      <td>3</td>\n",
              "      <td>0</td>\n",
              "    </tr>\n",
              "    <tr>\n",
              "      <th>5946</th>\n",
              "      <td>F</td>\n",
              "      <td>C</td>\n",
              "      <td>43</td>\n",
              "      <td>TECNICO</td>\n",
              "      <td>DE FAMILIAR</td>\n",
              "      <td>0</td>\n",
              "      <td>LIMA</td>\n",
              "      <td>16</td>\n",
              "      <td>INDEPENDIENTE</td>\n",
              "      <td>False</td>\n",
              "      <td>2075.00</td>\n",
              "      <td>FERRETERIA</td>\n",
              "      <td>0</td>\n",
              "      <td>1</td>\n",
              "      <td>0</td>\n",
              "      <td>7</td>\n",
              "      <td>2590.00</td>\n",
              "      <td>19600.0</td>\n",
              "      <td>0.22</td>\n",
              "      <td>13.21</td>\n",
              "      <td>17.49</td>\n",
              "      <td>3</td>\n",
              "      <td>0</td>\n",
              "    </tr>\n",
              "    <tr>\n",
              "      <th>1395</th>\n",
              "      <td>F</td>\n",
              "      <td>S</td>\n",
              "      <td>23</td>\n",
              "      <td>TECNICO</td>\n",
              "      <td>DE FAMILIAR</td>\n",
              "      <td>0</td>\n",
              "      <td>ICA</td>\n",
              "      <td>5</td>\n",
              "      <td>INDEPENDIENTE</td>\n",
              "      <td>False</td>\n",
              "      <td>453.60</td>\n",
              "      <td>VENTA DE ROPA -TEXTILES</td>\n",
              "      <td>0</td>\n",
              "      <td>1</td>\n",
              "      <td>0</td>\n",
              "      <td>5</td>\n",
              "      <td>1198.60</td>\n",
              "      <td>7500.0</td>\n",
              "      <td>0.22</td>\n",
              "      <td>37.93</td>\n",
              "      <td>68.80</td>\n",
              "      <td>2</td>\n",
              "      <td>0</td>\n",
              "    </tr>\n",
              "  </tbody>\n",
              "</table>\n",
              "</div>"
            ],
            "text/plain": [
              "     GENERO ESTADO_CIVIL  EDAD  ... CICLOFINANCIERO SEGMENTO  TARGET\n",
              "189       M            C    35  ...           32.00        3       0\n",
              "3390      F            C    59  ...           43.40        2       0\n",
              "5210      F            S    47  ...           31.61        3       0\n",
              "5946      F            C    43  ...           17.49        3       0\n",
              "1395      F            S    23  ...           68.80        2       0\n",
              "\n",
              "[5 rows x 23 columns]"
            ]
          },
          "metadata": {
            "tags": []
          },
          "execution_count": 23
        }
      ]
    },
    {
      "cell_type": "code",
      "metadata": {
        "colab": {
          "base_uri": "https://localhost:8080/",
          "height": 507
        },
        "id": "1mmAnpv61s4y",
        "outputId": "98f1f097-63d6-4e21-aa40-67ed2c074f07"
      },
      "source": [
        "# Definimos una nueva variable llamada df_class_1_under la cual nos da un muestreo de la clase 1 dependiendo del número de\n",
        "# elementos de la clase 0.\n",
        "#df_class_0=5408 ceros\n",
        "#count_class_1=5408 ceros\n",
        "\n",
        "df_class_1_under = df_class_0.sample(count_class_1)\n",
        "df_class_1_under"
      ],
      "execution_count": null,
      "outputs": [
        {
          "output_type": "execute_result",
          "data": {
            "text/html": [
              "<div>\n",
              "<style scoped>\n",
              "    .dataframe tbody tr th:only-of-type {\n",
              "        vertical-align: middle;\n",
              "    }\n",
              "\n",
              "    .dataframe tbody tr th {\n",
              "        vertical-align: top;\n",
              "    }\n",
              "\n",
              "    .dataframe thead th {\n",
              "        text-align: right;\n",
              "    }\n",
              "</style>\n",
              "<table border=\"1\" class=\"dataframe\">\n",
              "  <thead>\n",
              "    <tr style=\"text-align: right;\">\n",
              "      <th></th>\n",
              "      <th>GENERO</th>\n",
              "      <th>ESTADO_CIVIL</th>\n",
              "      <th>EDAD</th>\n",
              "      <th>GRADO_INSTRUCCION</th>\n",
              "      <th>CONDICION_VIVIENDA</th>\n",
              "      <th>NUMERO_DEPENDIENTES</th>\n",
              "      <th>DPTO_DOMICILIO</th>\n",
              "      <th>ANTIGUEDAD_DOMICILIO</th>\n",
              "      <th>TIPO_TRABAJADOR</th>\n",
              "      <th>TIENE_VEHIVULO</th>\n",
              "      <th>LIQUIDEZDISPONIBLE</th>\n",
              "      <th>ACTIVIDAD_ECONOMICA</th>\n",
              "      <th>DEUDAS_NEGATIVAS</th>\n",
              "      <th>T_D_AC_VEN_MA30_3M</th>\n",
              "      <th>RT_N_ENT_M0_3M</th>\n",
              "      <th>ANTIGUEDAD_LABORAL</th>\n",
              "      <th>UTILIDADOPERATIVA</th>\n",
              "      <th>VENTASNETAS</th>\n",
              "      <th>ENDEUDAMIENTOPATRIMONIAL</th>\n",
              "      <th>MARGENOPERATIVO</th>\n",
              "      <th>CICLOFINANCIERO</th>\n",
              "      <th>SEGMENTO</th>\n",
              "      <th>TARGET</th>\n",
              "    </tr>\n",
              "  </thead>\n",
              "  <tbody>\n",
              "    <tr>\n",
              "      <th>4381</th>\n",
              "      <td>M</td>\n",
              "      <td>C</td>\n",
              "      <td>30</td>\n",
              "      <td>MEDIO/SECUNDARIA</td>\n",
              "      <td>PROPIO</td>\n",
              "      <td>2</td>\n",
              "      <td>PIURA</td>\n",
              "      <td>16</td>\n",
              "      <td>INDEPENDIENTE</td>\n",
              "      <td>False</td>\n",
              "      <td>1260.00</td>\n",
              "      <td>VENTA DE VERDURAS Y FRUTAS</td>\n",
              "      <td>0</td>\n",
              "      <td>0</td>\n",
              "      <td>0</td>\n",
              "      <td>5</td>\n",
              "      <td>1980.00</td>\n",
              "      <td>18000.0</td>\n",
              "      <td>0.22</td>\n",
              "      <td>11.00</td>\n",
              "      <td>12.00</td>\n",
              "      <td>2</td>\n",
              "      <td>0</td>\n",
              "    </tr>\n",
              "    <tr>\n",
              "      <th>4176</th>\n",
              "      <td>F</td>\n",
              "      <td>S</td>\n",
              "      <td>37</td>\n",
              "      <td>MEDIO/SECUNDARIA</td>\n",
              "      <td>PROPIO</td>\n",
              "      <td>1</td>\n",
              "      <td>CUSCO</td>\n",
              "      <td>2</td>\n",
              "      <td>INDEPENDIENTE</td>\n",
              "      <td>False</td>\n",
              "      <td>1420.00</td>\n",
              "      <td>VENTA DE ROPA -TEXTILES</td>\n",
              "      <td>0</td>\n",
              "      <td>0</td>\n",
              "      <td>0</td>\n",
              "      <td>5</td>\n",
              "      <td>1890.00</td>\n",
              "      <td>6000.0</td>\n",
              "      <td>0.22</td>\n",
              "      <td>31.50</td>\n",
              "      <td>84.13</td>\n",
              "      <td>3</td>\n",
              "      <td>0</td>\n",
              "    </tr>\n",
              "    <tr>\n",
              "      <th>2566</th>\n",
              "      <td>F</td>\n",
              "      <td>S</td>\n",
              "      <td>23</td>\n",
              "      <td>MEDIO/SECUNDARIA</td>\n",
              "      <td>DE FAMILIAR</td>\n",
              "      <td>0</td>\n",
              "      <td>LAMBAYEQUE</td>\n",
              "      <td>21</td>\n",
              "      <td>INDEPENDIENTE</td>\n",
              "      <td>False</td>\n",
              "      <td>235.00</td>\n",
              "      <td>VENTA DE ROPA -TEXTILES</td>\n",
              "      <td>0</td>\n",
              "      <td>0</td>\n",
              "      <td>0</td>\n",
              "      <td>5</td>\n",
              "      <td>390.00</td>\n",
              "      <td>21550.0</td>\n",
              "      <td>0.22</td>\n",
              "      <td>13.92</td>\n",
              "      <td>13.13</td>\n",
              "      <td>2</td>\n",
              "      <td>0</td>\n",
              "    </tr>\n",
              "    <tr>\n",
              "      <th>3426</th>\n",
              "      <td>F</td>\n",
              "      <td>S</td>\n",
              "      <td>28</td>\n",
              "      <td>PRIMARIA</td>\n",
              "      <td>DE FAMILIAR</td>\n",
              "      <td>2</td>\n",
              "      <td>LAMBAYEQUE</td>\n",
              "      <td>6</td>\n",
              "      <td>INDEPENDIENTE</td>\n",
              "      <td>False</td>\n",
              "      <td>2160.00</td>\n",
              "      <td>BODEGAS</td>\n",
              "      <td>0</td>\n",
              "      <td>0</td>\n",
              "      <td>0</td>\n",
              "      <td>6</td>\n",
              "      <td>2910.00</td>\n",
              "      <td>8200.0</td>\n",
              "      <td>1.48</td>\n",
              "      <td>35.48</td>\n",
              "      <td>56.47</td>\n",
              "      <td>2</td>\n",
              "      <td>0</td>\n",
              "    </tr>\n",
              "    <tr>\n",
              "      <th>2312</th>\n",
              "      <td>M</td>\n",
              "      <td>S</td>\n",
              "      <td>36</td>\n",
              "      <td>UNIVERSITRARIO</td>\n",
              "      <td>DE FAMILIAR</td>\n",
              "      <td>0</td>\n",
              "      <td>SAN MARTIN</td>\n",
              "      <td>1</td>\n",
              "      <td>DEPENDIENTE</td>\n",
              "      <td>False</td>\n",
              "      <td>891.60</td>\n",
              "      <td>OTRAS ACTIVIDADES</td>\n",
              "      <td>0</td>\n",
              "      <td>1</td>\n",
              "      <td>0</td>\n",
              "      <td>5</td>\n",
              "      <td>1320.00</td>\n",
              "      <td>7650.0</td>\n",
              "      <td>0.16</td>\n",
              "      <td>52.80</td>\n",
              "      <td>30.00</td>\n",
              "      <td>2</td>\n",
              "      <td>0</td>\n",
              "    </tr>\n",
              "    <tr>\n",
              "      <th>...</th>\n",
              "      <td>...</td>\n",
              "      <td>...</td>\n",
              "      <td>...</td>\n",
              "      <td>...</td>\n",
              "      <td>...</td>\n",
              "      <td>...</td>\n",
              "      <td>...</td>\n",
              "      <td>...</td>\n",
              "      <td>...</td>\n",
              "      <td>...</td>\n",
              "      <td>...</td>\n",
              "      <td>...</td>\n",
              "      <td>...</td>\n",
              "      <td>...</td>\n",
              "      <td>...</td>\n",
              "      <td>...</td>\n",
              "      <td>...</td>\n",
              "      <td>...</td>\n",
              "      <td>...</td>\n",
              "      <td>...</td>\n",
              "      <td>...</td>\n",
              "      <td>...</td>\n",
              "      <td>...</td>\n",
              "    </tr>\n",
              "    <tr>\n",
              "      <th>8317</th>\n",
              "      <td>F</td>\n",
              "      <td>C</td>\n",
              "      <td>61</td>\n",
              "      <td>MEDIO/SECUNDARIA</td>\n",
              "      <td>PROPIO</td>\n",
              "      <td>0</td>\n",
              "      <td>PIURA</td>\n",
              "      <td>20</td>\n",
              "      <td>INDEPENDIENTE</td>\n",
              "      <td>True</td>\n",
              "      <td>417.00</td>\n",
              "      <td>ABARROTE</td>\n",
              "      <td>0</td>\n",
              "      <td>0</td>\n",
              "      <td>1</td>\n",
              "      <td>22</td>\n",
              "      <td>832.00</td>\n",
              "      <td>5200.0</td>\n",
              "      <td>0.22</td>\n",
              "      <td>16.00</td>\n",
              "      <td>16.58</td>\n",
              "      <td>2</td>\n",
              "      <td>0</td>\n",
              "    </tr>\n",
              "    <tr>\n",
              "      <th>2912</th>\n",
              "      <td>M</td>\n",
              "      <td>S</td>\n",
              "      <td>29</td>\n",
              "      <td>TECNICO</td>\n",
              "      <td>PROPIO</td>\n",
              "      <td>1</td>\n",
              "      <td>SAN MARTIN</td>\n",
              "      <td>5</td>\n",
              "      <td>INDEPENDIENTE</td>\n",
              "      <td>False</td>\n",
              "      <td>510.00</td>\n",
              "      <td>OTRAS ACTIVIDADES</td>\n",
              "      <td>0</td>\n",
              "      <td>1</td>\n",
              "      <td>0</td>\n",
              "      <td>5</td>\n",
              "      <td>497.50</td>\n",
              "      <td>3000.0</td>\n",
              "      <td>0.22</td>\n",
              "      <td>16.58</td>\n",
              "      <td>33.33</td>\n",
              "      <td>2</td>\n",
              "      <td>0</td>\n",
              "    </tr>\n",
              "    <tr>\n",
              "      <th>4429</th>\n",
              "      <td>M</td>\n",
              "      <td>C</td>\n",
              "      <td>39</td>\n",
              "      <td>TECNICO</td>\n",
              "      <td>PROPIO</td>\n",
              "      <td>0</td>\n",
              "      <td>LAMBAYEQUE</td>\n",
              "      <td>22</td>\n",
              "      <td>DEPENDIENTE</td>\n",
              "      <td>False</td>\n",
              "      <td>1199.00</td>\n",
              "      <td>OTRAS ACTIVIDADES</td>\n",
              "      <td>0</td>\n",
              "      <td>1</td>\n",
              "      <td>0</td>\n",
              "      <td>5</td>\n",
              "      <td>1774.00</td>\n",
              "      <td>3080.0</td>\n",
              "      <td>0.22</td>\n",
              "      <td>57.59</td>\n",
              "      <td>30.00</td>\n",
              "      <td>2</td>\n",
              "      <td>0</td>\n",
              "    </tr>\n",
              "    <tr>\n",
              "      <th>1929</th>\n",
              "      <td>M</td>\n",
              "      <td>S</td>\n",
              "      <td>51</td>\n",
              "      <td>MEDIO/SECUNDARIA</td>\n",
              "      <td>PROPIO</td>\n",
              "      <td>5</td>\n",
              "      <td>CUSCO</td>\n",
              "      <td>6</td>\n",
              "      <td>INDEPENDIENTE</td>\n",
              "      <td>False</td>\n",
              "      <td>739.37</td>\n",
              "      <td>TRANSPORTE</td>\n",
              "      <td>0</td>\n",
              "      <td>0</td>\n",
              "      <td>0</td>\n",
              "      <td>5</td>\n",
              "      <td>1436.87</td>\n",
              "      <td>3400.0</td>\n",
              "      <td>0.22</td>\n",
              "      <td>52.36</td>\n",
              "      <td>11.68</td>\n",
              "      <td>3</td>\n",
              "      <td>0</td>\n",
              "    </tr>\n",
              "    <tr>\n",
              "      <th>2247</th>\n",
              "      <td>F</td>\n",
              "      <td>S</td>\n",
              "      <td>31</td>\n",
              "      <td>TECNICO</td>\n",
              "      <td>PROPIO</td>\n",
              "      <td>3</td>\n",
              "      <td>JUNIN</td>\n",
              "      <td>6</td>\n",
              "      <td>INDEPENDIENTE</td>\n",
              "      <td>False</td>\n",
              "      <td>325.45</td>\n",
              "      <td>BODEGAS</td>\n",
              "      <td>0</td>\n",
              "      <td>0</td>\n",
              "      <td>0</td>\n",
              "      <td>5</td>\n",
              "      <td>685.45</td>\n",
              "      <td>20000.0</td>\n",
              "      <td>0.22</td>\n",
              "      <td>9.43</td>\n",
              "      <td>223.20</td>\n",
              "      <td>2</td>\n",
              "      <td>0</td>\n",
              "    </tr>\n",
              "  </tbody>\n",
              "</table>\n",
              "<p>5408 rows × 23 columns</p>\n",
              "</div>"
            ],
            "text/plain": [
              "     GENERO ESTADO_CIVIL  EDAD  ... CICLOFINANCIERO SEGMENTO  TARGET\n",
              "4381      M            C    30  ...           12.00        2       0\n",
              "4176      F            S    37  ...           84.13        3       0\n",
              "2566      F            S    23  ...           13.13        2       0\n",
              "3426      F            S    28  ...           56.47        2       0\n",
              "2312      M            S    36  ...           30.00        2       0\n",
              "...     ...          ...   ...  ...             ...      ...     ...\n",
              "8317      F            C    61  ...           16.58        2       0\n",
              "2912      M            S    29  ...           33.33        2       0\n",
              "4429      M            C    39  ...           30.00        2       0\n",
              "1929      M            S    51  ...           11.68        3       0\n",
              "2247      F            S    31  ...          223.20        2       0\n",
              "\n",
              "[5408 rows x 23 columns]"
            ]
          },
          "metadata": {
            "tags": []
          },
          "execution_count": 36
        }
      ]
    },
    {
      "cell_type": "markdown",
      "metadata": {
        "id": "iYw-xG9A9orJ"
      },
      "source": [
        "#### 9.2 UnderSample"
      ]
    },
    {
      "cell_type": "code",
      "metadata": {
        "id": "-UZ_v2rN9VLw"
      },
      "source": [
        "import imblearn"
      ],
      "execution_count": null,
      "outputs": []
    },
    {
      "cell_type": "code",
      "metadata": {
        "id": "QEAvbMue9Q5O"
      },
      "source": [
        "from imblearn.under_sampling import RandomUnderSampler\n",
        "rus = RandomUnderSampler(return_indices=True) # Define o instancian\n",
        "X_rus, y_rus, id_rus = rus.fit_sample(X_train, y_train)   # Ejecuto"
      ],
      "execution_count": null,
      "outputs": []
    },
    {
      "cell_type": "code",
      "metadata": {
        "id": "Tlb9rwb59YNZ"
      },
      "source": [
        "df_X_rus = pd.DataFrame(data=X_rus,columns=X_train.columns)\n",
        "df_y_rus = pd.DataFrame(data=y_rus,columns=['TARGET'])\n",
        "\n",
        "# Concatenamos la información\n",
        "df_balanceado_rus = pd.concat([df_X_rus, df_y_rus], axis=1)"
      ],
      "execution_count": null,
      "outputs": []
    },
    {
      "cell_type": "code",
      "metadata": {
        "colab": {
          "base_uri": "https://localhost:8080/"
        },
        "id": "m543zFbS9cha",
        "outputId": "d529ac91-81b1-40a1-b3b5-852bfe5a1097"
      },
      "source": [
        "df_balanceado_rus.TARGET.value_counts()"
      ],
      "execution_count": null,
      "outputs": [
        {
          "output_type": "execute_result",
          "data": {
            "text/plain": [
              "1    532\n",
              "0    532\n",
              "Name: TARGET, dtype: int64"
            ]
          },
          "metadata": {
            "tags": []
          },
          "execution_count": 54
        }
      ]
    },
    {
      "cell_type": "markdown",
      "metadata": {
        "id": "B4fOIvkf93Om"
      },
      "source": [
        "#### 9.3 OverSample"
      ]
    },
    {
      "cell_type": "code",
      "metadata": {
        "id": "CgyYBNlg97iZ"
      },
      "source": [
        "from imblearn.over_sampling import RandomOverSampler\n",
        "\n",
        "ros = RandomOverSampler()            # Define o instancia\n",
        "X_ros, y_ros = ros.fit_sample(X_train, y_train)  # Ejecuto\n",
        "\n",
        "df_X_ros = pd.DataFrame(data=X_ros,columns=X_train.columns)\n",
        "df_y_ros = pd.DataFrame(data=y_ros,columns=['TARGET'])\n",
        "\n",
        "# Concatenamos la información\n",
        "df_balanceado_ros = pd.concat([df_X_ros, df_y_ros], axis=1)"
      ],
      "execution_count": null,
      "outputs": []
    },
    {
      "cell_type": "code",
      "metadata": {
        "colab": {
          "base_uri": "https://localhost:8080/"
        },
        "id": "rsA3hEwP-SlK",
        "outputId": "27a74bfb-a390-480c-f807-ae491922d0a5"
      },
      "source": [
        "df_balanceado_ros.TARGET.value_counts()"
      ],
      "execution_count": null,
      "outputs": [
        {
          "output_type": "execute_result",
          "data": {
            "text/plain": [
              "1    5408\n",
              "0    5408\n",
              "Name: TARGET, dtype: int64"
            ]
          },
          "metadata": {
            "tags": []
          },
          "execution_count": 56
        }
      ]
    },
    {
      "cell_type": "markdown",
      "metadata": {
        "id": "1E2OUCmP-XrZ"
      },
      "source": [
        "#### 9.4 Tomeklink"
      ]
    },
    {
      "cell_type": "code",
      "metadata": {
        "id": "r6YfT2lV-dV5"
      },
      "source": [
        "from imblearn.under_sampling import TomekLinks\n",
        "\n",
        "tl = TomekLinks(return_indices=True, ratio='majority') # Instancia o defines\n",
        "X_tl, y_tl,id_tl  = tl.fit_sample(X_train, y_train)                # Aplicar\n",
        "\n",
        "df_X_tl = pd.DataFrame(data=X_tl,columns=X_train.columns)\n",
        "df_y_tl = pd.DataFrame(data=y_tl,columns=[\"TARGET\"])\n",
        "\n",
        "# Concatenamos la información\n",
        "df_balanceado_tl = pd.concat([df_X_tl, df_y_tl], axis=1)"
      ],
      "execution_count": null,
      "outputs": []
    },
    {
      "cell_type": "code",
      "metadata": {
        "colab": {
          "base_uri": "https://localhost:8080/"
        },
        "id": "eidcKRkt-j2A",
        "outputId": "8e77cc32-ddb9-4859-9a16-ed85bb08907b"
      },
      "source": [
        "df_balanceado_tl.TARGET.value_counts()"
      ],
      "execution_count": null,
      "outputs": [
        {
          "output_type": "execute_result",
          "data": {
            "text/plain": [
              "0    5137\n",
              "1     532\n",
              "Name: TARGET, dtype: int64"
            ]
          },
          "metadata": {
            "tags": []
          },
          "execution_count": 58
        }
      ]
    },
    {
      "cell_type": "markdown",
      "metadata": {
        "id": "YbFEg4Ugdgyq"
      },
      "source": [
        "#### 9.5 Balenceo de Datos ClusterCentroids"
      ]
    },
    {
      "cell_type": "code",
      "metadata": {
        "id": "C_SNMlyFdal-"
      },
      "source": [
        "from imblearn.under_sampling import ClusterCentroids\n",
        "\n",
        "cc = ClusterCentroids(ratio={1: 200})        # Instancio\n",
        "X_cc, y_cc = cc.fit_sample(X_train, y_train) # Ajusto\n",
        "\n",
        "df_X_cc = pd.DataFrame(data=X_cc,columns=X_train.columns)\n",
        "df_y_cc = pd.DataFrame(data=y_cc,columns=[\"TARGET\"])\n",
        "\n",
        "# Concatenamos la información\n",
        "df_balanceado_cc = pd.concat([df_X_cc, df_y_cc], axis=1)"
      ],
      "execution_count": null,
      "outputs": []
    },
    {
      "cell_type": "code",
      "metadata": {
        "colab": {
          "base_uri": "https://localhost:8080/"
        },
        "id": "MAM608oMdrol",
        "outputId": "00bcd2f1-3621-430e-ae7c-8f58f91f7480"
      },
      "source": [
        "df_balanceado_cc.TARGET.value_counts()"
      ],
      "execution_count": null,
      "outputs": [
        {
          "output_type": "execute_result",
          "data": {
            "text/plain": [
              "0    5408\n",
              "1     200\n",
              "Name: TARGET, dtype: int64"
            ]
          },
          "metadata": {
            "tags": []
          },
          "execution_count": 60
        }
      ]
    },
    {
      "cell_type": "markdown",
      "metadata": {
        "id": "C8UvKcVydxF7"
      },
      "source": [
        "#### 9.6 Smote"
      ]
    },
    {
      "cell_type": "code",
      "metadata": {
        "id": "z8zLhvnOd1LH"
      },
      "source": [
        "from imblearn.over_sampling import SMOTE\n",
        "\n",
        "smote = SMOTE(ratio='minority')\n",
        "X_sm, y_sm = smote.fit_sample(X_train, y_train)\n",
        "\n",
        "df_X_sm = pd.DataFrame(data=X_sm,columns=X_train.columns)\n",
        "df_y_sm = pd.DataFrame(data=y_sm,columns=[\"TARGET\"])\n",
        "\n",
        "# Concatenamos la información\n",
        "df_balanceado_sm = pd.concat([df_X_sm, df_y_sm], axis=1)"
      ],
      "execution_count": null,
      "outputs": []
    },
    {
      "cell_type": "code",
      "metadata": {
        "colab": {
          "base_uri": "https://localhost:8080/"
        },
        "id": "oM8Bs7Bkd3QH",
        "outputId": "19ac6860-dc75-441a-c21c-d260cc7c5198"
      },
      "source": [
        "df_balanceado_sm.TARGET.value_counts()"
      ],
      "execution_count": null,
      "outputs": [
        {
          "output_type": "execute_result",
          "data": {
            "text/plain": [
              "1    5408\n",
              "0    5408\n",
              "Name: TARGET, dtype: int64"
            ]
          },
          "metadata": {
            "tags": []
          },
          "execution_count": 66
        }
      ]
    },
    {
      "cell_type": "markdown",
      "metadata": {
        "id": "c6meV8OVeG-X"
      },
      "source": [
        "#### 9.7 SmoteTomek"
      ]
    },
    {
      "cell_type": "code",
      "metadata": {
        "id": "OrBkpce2eMUe"
      },
      "source": [
        "from imblearn.combine import SMOTETomek\n",
        "\n",
        "smt = SMOTETomek(ratio='auto')\n",
        "X_smt, y_smt = smt.fit_sample(X_train, y_train)\n",
        "\n",
        "df_X_smt = pd.DataFrame(data=X_smt,columns=X_train.columns)\n",
        "df_y_smt = pd.DataFrame(data=y_smt,columns=[\"TARGET\"])\n",
        "\n",
        "# Concatenamos la información\n",
        "df_balanceado_smt = pd.concat([df_X_smt, df_y_smt], axis=1)"
      ],
      "execution_count": null,
      "outputs": []
    },
    {
      "cell_type": "code",
      "metadata": {
        "colab": {
          "base_uri": "https://localhost:8080/"
        },
        "id": "LQP5ZHgyeQW7",
        "outputId": "2c8f0312-143c-48e3-c746-b78f38f0f2ef"
      },
      "source": [
        "df_balanceado_smt.TARGET.value_counts()"
      ],
      "execution_count": null,
      "outputs": [
        {
          "output_type": "execute_result",
          "data": {
            "text/plain": [
              "1    5172\n",
              "0    5172\n",
              "Name: TARGET, dtype: int64"
            ]
          },
          "metadata": {
            "tags": []
          },
          "execution_count": 68
        }
      ]
    },
    {
      "cell_type": "markdown",
      "metadata": {
        "id": "mPiVz-1dLK4D"
      },
      "source": [
        "### 10.Selección de Drivers"
      ]
    },
    {
      "cell_type": "code",
      "metadata": {
        "id": "19UBADnoLFbN"
      },
      "source": [
        "import matplotlib.pyplot as plt\n",
        "from sklearn import metrics\n",
        "from sklearn.ensemble import ExtraTreesClassifier"
      ],
      "execution_count": null,
      "outputs": []
    },
    {
      "cell_type": "code",
      "metadata": {
        "colab": {
          "base_uri": "https://localhost:8080/"
        },
        "id": "vfGMkdjrLPiN",
        "outputId": "c32a5726-25c7-4c46-a992-c06675e7e0c0"
      },
      "source": [
        "desarrll.shape"
      ],
      "execution_count": null,
      "outputs": [
        {
          "output_type": "execute_result",
          "data": {
            "text/plain": [
              "(8486, 23)"
            ]
          },
          "metadata": {
            "tags": []
          },
          "execution_count": 19
        }
      ]
    },
    {
      "cell_type": "code",
      "metadata": {
        "colab": {
          "base_uri": "https://localhost:8080/",
          "height": 224
        },
        "id": "TePaGaNiZK13",
        "outputId": "9cfbe1e6-4616-4a63-d046-053c1961a16f"
      },
      "source": [
        "desarrll.head(5)"
      ],
      "execution_count": null,
      "outputs": [
        {
          "output_type": "execute_result",
          "data": {
            "text/html": [
              "<div>\n",
              "<style scoped>\n",
              "    .dataframe tbody tr th:only-of-type {\n",
              "        vertical-align: middle;\n",
              "    }\n",
              "\n",
              "    .dataframe tbody tr th {\n",
              "        vertical-align: top;\n",
              "    }\n",
              "\n",
              "    .dataframe thead th {\n",
              "        text-align: right;\n",
              "    }\n",
              "</style>\n",
              "<table border=\"1\" class=\"dataframe\">\n",
              "  <thead>\n",
              "    <tr style=\"text-align: right;\">\n",
              "      <th></th>\n",
              "      <th>GENERO</th>\n",
              "      <th>ESTADO_CIVIL</th>\n",
              "      <th>EDAD</th>\n",
              "      <th>GRADO_INSTRUCCION</th>\n",
              "      <th>CONDICION_VIVIENDA</th>\n",
              "      <th>NUMERO_DEPENDIENTES</th>\n",
              "      <th>DPTO_DOMICILIO</th>\n",
              "      <th>ANTIGUEDAD_DOMICILIO</th>\n",
              "      <th>TIPO_TRABAJADOR</th>\n",
              "      <th>TIENE_VEHIVULO</th>\n",
              "      <th>LIQUIDEZDISPONIBLE</th>\n",
              "      <th>ACTIVIDAD_ECONOMICA</th>\n",
              "      <th>DEUDAS_NEGATIVAS</th>\n",
              "      <th>T_D_AC_VEN_MA30_3M</th>\n",
              "      <th>RT_N_ENT_M0_3M</th>\n",
              "      <th>ANTIGUEDAD_LABORAL</th>\n",
              "      <th>UTILIDADOPERATIVA</th>\n",
              "      <th>VENTASNETAS</th>\n",
              "      <th>ENDEUDAMIENTOPATRIMONIAL</th>\n",
              "      <th>MARGENOPERATIVO</th>\n",
              "      <th>CICLOFINANCIERO</th>\n",
              "      <th>SEGMENTO</th>\n",
              "      <th>TARGET</th>\n",
              "    </tr>\n",
              "  </thead>\n",
              "  <tbody>\n",
              "    <tr>\n",
              "      <th>0</th>\n",
              "      <td>0</td>\n",
              "      <td>2</td>\n",
              "      <td>38</td>\n",
              "      <td>0</td>\n",
              "      <td>2</td>\n",
              "      <td>2</td>\n",
              "      <td>13</td>\n",
              "      <td>16</td>\n",
              "      <td>1</td>\n",
              "      <td>0</td>\n",
              "      <td>1139.00</td>\n",
              "      <td>2</td>\n",
              "      <td>0</td>\n",
              "      <td>0</td>\n",
              "      <td>0</td>\n",
              "      <td>16</td>\n",
              "      <td>1895.00</td>\n",
              "      <td>7960.0</td>\n",
              "      <td>0.22</td>\n",
              "      <td>26.91</td>\n",
              "      <td>59.67</td>\n",
              "      <td>2</td>\n",
              "      <td>0</td>\n",
              "    </tr>\n",
              "    <tr>\n",
              "      <th>1</th>\n",
              "      <td>0</td>\n",
              "      <td>2</td>\n",
              "      <td>39</td>\n",
              "      <td>0</td>\n",
              "      <td>2</td>\n",
              "      <td>2</td>\n",
              "      <td>14</td>\n",
              "      <td>4</td>\n",
              "      <td>1</td>\n",
              "      <td>0</td>\n",
              "      <td>2877.37</td>\n",
              "      <td>17</td>\n",
              "      <td>0</td>\n",
              "      <td>0</td>\n",
              "      <td>0</td>\n",
              "      <td>5</td>\n",
              "      <td>3957.37</td>\n",
              "      <td>1480.0</td>\n",
              "      <td>0.22</td>\n",
              "      <td>29.98</td>\n",
              "      <td>65.21</td>\n",
              "      <td>3</td>\n",
              "      <td>0</td>\n",
              "    </tr>\n",
              "    <tr>\n",
              "      <th>2</th>\n",
              "      <td>1</td>\n",
              "      <td>0</td>\n",
              "      <td>46</td>\n",
              "      <td>2</td>\n",
              "      <td>2</td>\n",
              "      <td>3</td>\n",
              "      <td>5</td>\n",
              "      <td>26</td>\n",
              "      <td>1</td>\n",
              "      <td>0</td>\n",
              "      <td>888.00</td>\n",
              "      <td>10</td>\n",
              "      <td>0</td>\n",
              "      <td>0</td>\n",
              "      <td>0</td>\n",
              "      <td>5</td>\n",
              "      <td>1338.00</td>\n",
              "      <td>2880.0</td>\n",
              "      <td>0.22</td>\n",
              "      <td>24.77</td>\n",
              "      <td>30.00</td>\n",
              "      <td>1</td>\n",
              "      <td>0</td>\n",
              "    </tr>\n",
              "    <tr>\n",
              "      <th>3</th>\n",
              "      <td>0</td>\n",
              "      <td>2</td>\n",
              "      <td>23</td>\n",
              "      <td>3</td>\n",
              "      <td>1</td>\n",
              "      <td>0</td>\n",
              "      <td>12</td>\n",
              "      <td>16</td>\n",
              "      <td>1</td>\n",
              "      <td>0</td>\n",
              "      <td>2373.00</td>\n",
              "      <td>10</td>\n",
              "      <td>0</td>\n",
              "      <td>0</td>\n",
              "      <td>0</td>\n",
              "      <td>5</td>\n",
              "      <td>3350.00</td>\n",
              "      <td>1800.0</td>\n",
              "      <td>0.22</td>\n",
              "      <td>72.82</td>\n",
              "      <td>25.80</td>\n",
              "      <td>3</td>\n",
              "      <td>0</td>\n",
              "    </tr>\n",
              "    <tr>\n",
              "      <th>4</th>\n",
              "      <td>0</td>\n",
              "      <td>0</td>\n",
              "      <td>34</td>\n",
              "      <td>0</td>\n",
              "      <td>1</td>\n",
              "      <td>3</td>\n",
              "      <td>14</td>\n",
              "      <td>16</td>\n",
              "      <td>1</td>\n",
              "      <td>0</td>\n",
              "      <td>1353.06</td>\n",
              "      <td>2</td>\n",
              "      <td>0</td>\n",
              "      <td>0</td>\n",
              "      <td>0</td>\n",
              "      <td>5</td>\n",
              "      <td>2003.60</td>\n",
              "      <td>82800.0</td>\n",
              "      <td>0.22</td>\n",
              "      <td>17.27</td>\n",
              "      <td>8.77</td>\n",
              "      <td>3</td>\n",
              "      <td>0</td>\n",
              "    </tr>\n",
              "  </tbody>\n",
              "</table>\n",
              "</div>"
            ],
            "text/plain": [
              "   GENERO  ESTADO_CIVIL  EDAD  ...  CICLOFINANCIERO  SEGMENTO  TARGET\n",
              "0       0             2    38  ...            59.67         2       0\n",
              "1       0             2    39  ...            65.21         3       0\n",
              "2       1             0    46  ...            30.00         1       0\n",
              "3       0             2    23  ...            25.80         3       0\n",
              "4       0             0    34  ...             8.77         3       0\n",
              "\n",
              "[5 rows x 23 columns]"
            ]
          },
          "metadata": {
            "tags": []
          },
          "execution_count": 20
        }
      ]
    },
    {
      "cell_type": "code",
      "metadata": {
        "colab": {
          "base_uri": "https://localhost:8080/",
          "height": 162
        },
        "id": "IwMSIqsB46Lf",
        "outputId": "6125d53d-b2fb-4b5a-857e-78a7fcdb736b"
      },
      "source": [
        "### Utilizamos la información obtenida con el balanceo mediante la metodología SMOTE\n",
        "df_balanceado_ros.head(3)\n",
        "#X_sm.shape\n",
        "#y_sm.shape"
      ],
      "execution_count": null,
      "outputs": [
        {
          "output_type": "execute_result",
          "data": {
            "text/html": [
              "<div>\n",
              "<style scoped>\n",
              "    .dataframe tbody tr th:only-of-type {\n",
              "        vertical-align: middle;\n",
              "    }\n",
              "\n",
              "    .dataframe tbody tr th {\n",
              "        vertical-align: top;\n",
              "    }\n",
              "\n",
              "    .dataframe thead th {\n",
              "        text-align: right;\n",
              "    }\n",
              "</style>\n",
              "<table border=\"1\" class=\"dataframe\">\n",
              "  <thead>\n",
              "    <tr style=\"text-align: right;\">\n",
              "      <th></th>\n",
              "      <th>GENERO</th>\n",
              "      <th>ESTADO_CIVIL</th>\n",
              "      <th>EDAD</th>\n",
              "      <th>GRADO_INSTRUCCION</th>\n",
              "      <th>CONDICION_VIVIENDA</th>\n",
              "      <th>NUMERO_DEPENDIENTES</th>\n",
              "      <th>DPTO_DOMICILIO</th>\n",
              "      <th>ANTIGUEDAD_DOMICILIO</th>\n",
              "      <th>TIPO_TRABAJADOR</th>\n",
              "      <th>TIENE_VEHIVULO</th>\n",
              "      <th>LIQUIDEZDISPONIBLE</th>\n",
              "      <th>ACTIVIDAD_ECONOMICA</th>\n",
              "      <th>DEUDAS_NEGATIVAS</th>\n",
              "      <th>T_D_AC_VEN_MA30_3M</th>\n",
              "      <th>RT_N_ENT_M0_3M</th>\n",
              "      <th>ANTIGUEDAD_LABORAL</th>\n",
              "      <th>UTILIDADOPERATIVA</th>\n",
              "      <th>VENTASNETAS</th>\n",
              "      <th>ENDEUDAMIENTOPATRIMONIAL</th>\n",
              "      <th>MARGENOPERATIVO</th>\n",
              "      <th>CICLOFINANCIERO</th>\n",
              "      <th>SEGMENTO</th>\n",
              "      <th>TARGET</th>\n",
              "    </tr>\n",
              "  </thead>\n",
              "  <tbody>\n",
              "    <tr>\n",
              "      <th>0</th>\n",
              "      <td>1.0</td>\n",
              "      <td>0.0</td>\n",
              "      <td>35.0</td>\n",
              "      <td>0.0</td>\n",
              "      <td>2.0</td>\n",
              "      <td>2.0</td>\n",
              "      <td>14.0</td>\n",
              "      <td>16.0</td>\n",
              "      <td>1.0</td>\n",
              "      <td>0.0</td>\n",
              "      <td>2100.00</td>\n",
              "      <td>10.0</td>\n",
              "      <td>0.0</td>\n",
              "      <td>0.0</td>\n",
              "      <td>1.0</td>\n",
              "      <td>5.0</td>\n",
              "      <td>2480.00</td>\n",
              "      <td>5016.0</td>\n",
              "      <td>0.22</td>\n",
              "      <td>3.10</td>\n",
              "      <td>32.00</td>\n",
              "      <td>3.0</td>\n",
              "      <td>0</td>\n",
              "    </tr>\n",
              "    <tr>\n",
              "      <th>1</th>\n",
              "      <td>0.0</td>\n",
              "      <td>0.0</td>\n",
              "      <td>59.0</td>\n",
              "      <td>0.0</td>\n",
              "      <td>2.0</td>\n",
              "      <td>2.0</td>\n",
              "      <td>13.0</td>\n",
              "      <td>11.0</td>\n",
              "      <td>1.0</td>\n",
              "      <td>0.0</td>\n",
              "      <td>437.55</td>\n",
              "      <td>24.0</td>\n",
              "      <td>0.0</td>\n",
              "      <td>0.0</td>\n",
              "      <td>0.0</td>\n",
              "      <td>5.0</td>\n",
              "      <td>1427.55</td>\n",
              "      <td>3100.0</td>\n",
              "      <td>0.22</td>\n",
              "      <td>46.05</td>\n",
              "      <td>43.40</td>\n",
              "      <td>2.0</td>\n",
              "      <td>0</td>\n",
              "    </tr>\n",
              "    <tr>\n",
              "      <th>2</th>\n",
              "      <td>0.0</td>\n",
              "      <td>2.0</td>\n",
              "      <td>47.0</td>\n",
              "      <td>0.0</td>\n",
              "      <td>0.0</td>\n",
              "      <td>0.0</td>\n",
              "      <td>12.0</td>\n",
              "      <td>8.0</td>\n",
              "      <td>1.0</td>\n",
              "      <td>0.0</td>\n",
              "      <td>477.00</td>\n",
              "      <td>2.0</td>\n",
              "      <td>0.0</td>\n",
              "      <td>0.0</td>\n",
              "      <td>0.0</td>\n",
              "      <td>9.0</td>\n",
              "      <td>842.00</td>\n",
              "      <td>4080.0</td>\n",
              "      <td>0.22</td>\n",
              "      <td>20.63</td>\n",
              "      <td>31.61</td>\n",
              "      <td>3.0</td>\n",
              "      <td>0</td>\n",
              "    </tr>\n",
              "  </tbody>\n",
              "</table>\n",
              "</div>"
            ],
            "text/plain": [
              "   GENERO  ESTADO_CIVIL  EDAD  ...  CICLOFINANCIERO  SEGMENTO  TARGET\n",
              "0     1.0           0.0  35.0  ...            32.00       3.0       0\n",
              "1     0.0           0.0  59.0  ...            43.40       2.0       0\n",
              "2     0.0           2.0  47.0  ...            31.61       3.0       0\n",
              "\n",
              "[3 rows x 23 columns]"
            ]
          },
          "metadata": {
            "tags": []
          },
          "execution_count": 83
        }
      ]
    },
    {
      "cell_type": "code",
      "metadata": {
        "colab": {
          "base_uri": "https://localhost:8080/"
        },
        "id": "Voyo__Xb5eGP",
        "outputId": "1d281e04-aa74-4aee-b87b-b6bd4d088df3"
      },
      "source": [
        "df_balanceado_ros.columns"
      ],
      "execution_count": null,
      "outputs": [
        {
          "output_type": "execute_result",
          "data": {
            "text/plain": [
              "Index(['GENERO', 'ESTADO_CIVIL', 'EDAD', 'GRADO_INSTRUCCION',\n",
              "       'CONDICION_VIVIENDA', 'NUMERO_DEPENDIENTES', 'DPTO_DOMICILIO',\n",
              "       'ANTIGUEDAD_DOMICILIO', 'TIPO_TRABAJADOR', 'TIENE_VEHIVULO',\n",
              "       'LIQUIDEZDISPONIBLE', 'ACTIVIDAD_ECONOMICA', 'DEUDAS_NEGATIVAS',\n",
              "       'T_D_AC_VEN_MA30_3M', 'RT_N_ENT_M0_3M', 'ANTIGUEDAD_LABORAL',\n",
              "       'UTILIDADOPERATIVA', 'VENTASNETAS', 'ENDEUDAMIENTOPATRIMONIAL',\n",
              "       'MARGENOPERATIVO', 'CICLOFINANCIERO', 'SEGMENTO', 'TARGET'],\n",
              "      dtype='object')"
            ]
          },
          "metadata": {
            "tags": []
          },
          "execution_count": 87
        }
      ]
    },
    {
      "cell_type": "code",
      "metadata": {
        "colab": {
          "base_uri": "https://localhost:8080/",
          "height": 374
        },
        "id": "nP0WsjvJ5WQM",
        "outputId": "9917e318-7a04-4c3a-d499-5a43bce8bdd0"
      },
      "source": [
        "# Feature Extraction with Univariate Statistical Tests (Chi-squared for classification)\n",
        "import pandas as pd\n",
        "import numpy as np\n",
        "import matplotlib.pyplot as plt\n",
        "from sklearn import metrics\n",
        "from sklearn import datasets\n",
        "import pandas\n",
        "import numpy\n",
        "from sklearn.feature_selection import SelectKBest\n",
        "from sklearn.feature_selection import chi2\n",
        "\n",
        "# feature extraction\n",
        "test = SelectKBest(score_func=chi2, k=4)\n",
        "fit = test.fit(X_ros, y_ros)\n",
        "# summarize scores\n",
        "numpy.set_printoptions(precision=3)\n",
        "print(fit.scores_*100)\n",
        "\n",
        "# horizontal bar plot of feature importance\n",
        "pos = np.arange(15) + 0.5\n",
        "plt.barh(pos, fit.scores_, align='center')\n",
        "plt.title(\"Feature Importance\")\n",
        "plt.xlabel(\"Model chi2\")\n",
        "plt.ylabel(\"Features\")\n",
        "plt.yticks(pos, ('GENERO', 'ESTADO_CIVIL', 'EDAD', 'GRADO_INSTRUCCION',\n",
        "       'CONDICION_VIVIENDA', 'NUMERO_DEPENDIENTES', 'DPTO_DOMICILIO',\n",
        "       'ANTIGUEDAD_DOMICILIO', 'TIPO_TRABAJADOR', 'TIENE_VEHIVULO',\n",
        "       'LIQUIDEZDISPONIBLE', 'ACTIVIDAD_ECONOMICA', 'DEUDAS_NEGATIVAS',\n",
        "       'T_D_AC_VEN_MA30_3M', 'RT_N_ENT_M0_3M', 'ANTIGUEDAD_LABORAL',\n",
        "       'UTILIDADOPERATIVA', 'VENTASNETAS', 'ENDEUDAMIENTOPATRIMONIAL',\n",
        "       'MARGENOPERATIVO', 'CICLOFINANCIERO', 'SEGMENTO'))\n",
        "plt.grid(True)"
      ],
      "execution_count": null,
      "outputs": [
        {
          "output_type": "error",
          "ename": "ValueError",
          "evalue": "ignored",
          "traceback": [
            "\u001b[0;31m---------------------------------------------------------------------------\u001b[0m",
            "\u001b[0;31mValueError\u001b[0m                                Traceback (most recent call last)",
            "\u001b[0;32m<ipython-input-88-a346fd9cddad>\u001b[0m in \u001b[0;36m<module>\u001b[0;34m()\u001b[0m\n\u001b[1;32m     12\u001b[0m \u001b[0;31m# feature extraction\u001b[0m\u001b[0;34m\u001b[0m\u001b[0;34m\u001b[0m\u001b[0;34m\u001b[0m\u001b[0m\n\u001b[1;32m     13\u001b[0m \u001b[0mtest\u001b[0m \u001b[0;34m=\u001b[0m \u001b[0mSelectKBest\u001b[0m\u001b[0;34m(\u001b[0m\u001b[0mscore_func\u001b[0m\u001b[0;34m=\u001b[0m\u001b[0mchi2\u001b[0m\u001b[0;34m,\u001b[0m \u001b[0mk\u001b[0m\u001b[0;34m=\u001b[0m\u001b[0;36m4\u001b[0m\u001b[0;34m)\u001b[0m\u001b[0;34m\u001b[0m\u001b[0;34m\u001b[0m\u001b[0m\n\u001b[0;32m---> 14\u001b[0;31m \u001b[0mfit\u001b[0m \u001b[0;34m=\u001b[0m \u001b[0mtest\u001b[0m\u001b[0;34m.\u001b[0m\u001b[0mfit\u001b[0m\u001b[0;34m(\u001b[0m\u001b[0mX_ros\u001b[0m\u001b[0;34m,\u001b[0m \u001b[0my_ros\u001b[0m\u001b[0;34m)\u001b[0m\u001b[0;34m\u001b[0m\u001b[0;34m\u001b[0m\u001b[0m\n\u001b[0m\u001b[1;32m     15\u001b[0m \u001b[0;31m# summarize scores\u001b[0m\u001b[0;34m\u001b[0m\u001b[0;34m\u001b[0m\u001b[0;34m\u001b[0m\u001b[0m\n\u001b[1;32m     16\u001b[0m \u001b[0mnumpy\u001b[0m\u001b[0;34m.\u001b[0m\u001b[0mset_printoptions\u001b[0m\u001b[0;34m(\u001b[0m\u001b[0mprecision\u001b[0m\u001b[0;34m=\u001b[0m\u001b[0;36m3\u001b[0m\u001b[0;34m)\u001b[0m\u001b[0;34m\u001b[0m\u001b[0;34m\u001b[0m\u001b[0m\n",
            "\u001b[0;32m/usr/local/lib/python3.6/dist-packages/sklearn/feature_selection/_univariate_selection.py\u001b[0m in \u001b[0;36mfit\u001b[0;34m(self, X, y)\u001b[0m\n\u001b[1;32m    347\u001b[0m \u001b[0;34m\u001b[0m\u001b[0m\n\u001b[1;32m    348\u001b[0m         \u001b[0mself\u001b[0m\u001b[0;34m.\u001b[0m\u001b[0m_check_params\u001b[0m\u001b[0;34m(\u001b[0m\u001b[0mX\u001b[0m\u001b[0;34m,\u001b[0m \u001b[0my\u001b[0m\u001b[0;34m)\u001b[0m\u001b[0;34m\u001b[0m\u001b[0;34m\u001b[0m\u001b[0m\n\u001b[0;32m--> 349\u001b[0;31m         \u001b[0mscore_func_ret\u001b[0m \u001b[0;34m=\u001b[0m \u001b[0mself\u001b[0m\u001b[0;34m.\u001b[0m\u001b[0mscore_func\u001b[0m\u001b[0;34m(\u001b[0m\u001b[0mX\u001b[0m\u001b[0;34m,\u001b[0m \u001b[0my\u001b[0m\u001b[0;34m)\u001b[0m\u001b[0;34m\u001b[0m\u001b[0;34m\u001b[0m\u001b[0m\n\u001b[0m\u001b[1;32m    350\u001b[0m         \u001b[0;32mif\u001b[0m \u001b[0misinstance\u001b[0m\u001b[0;34m(\u001b[0m\u001b[0mscore_func_ret\u001b[0m\u001b[0;34m,\u001b[0m \u001b[0;34m(\u001b[0m\u001b[0mlist\u001b[0m\u001b[0;34m,\u001b[0m \u001b[0mtuple\u001b[0m\u001b[0;34m)\u001b[0m\u001b[0;34m)\u001b[0m\u001b[0;34m:\u001b[0m\u001b[0;34m\u001b[0m\u001b[0;34m\u001b[0m\u001b[0m\n\u001b[1;32m    351\u001b[0m             \u001b[0mself\u001b[0m\u001b[0;34m.\u001b[0m\u001b[0mscores_\u001b[0m\u001b[0;34m,\u001b[0m \u001b[0mself\u001b[0m\u001b[0;34m.\u001b[0m\u001b[0mpvalues_\u001b[0m \u001b[0;34m=\u001b[0m \u001b[0mscore_func_ret\u001b[0m\u001b[0;34m\u001b[0m\u001b[0;34m\u001b[0m\u001b[0m\n",
            "\u001b[0;32m/usr/local/lib/python3.6/dist-packages/sklearn/feature_selection/_univariate_selection.py\u001b[0m in \u001b[0;36mchi2\u001b[0;34m(X, y)\u001b[0m\n\u001b[1;32m    214\u001b[0m     \u001b[0mX\u001b[0m \u001b[0;34m=\u001b[0m \u001b[0mcheck_array\u001b[0m\u001b[0;34m(\u001b[0m\u001b[0mX\u001b[0m\u001b[0;34m,\u001b[0m \u001b[0maccept_sparse\u001b[0m\u001b[0;34m=\u001b[0m\u001b[0;34m'csr'\u001b[0m\u001b[0;34m)\u001b[0m\u001b[0;34m\u001b[0m\u001b[0;34m\u001b[0m\u001b[0m\n\u001b[1;32m    215\u001b[0m     \u001b[0;32mif\u001b[0m \u001b[0mnp\u001b[0m\u001b[0;34m.\u001b[0m\u001b[0many\u001b[0m\u001b[0;34m(\u001b[0m\u001b[0;34m(\u001b[0m\u001b[0mX\u001b[0m\u001b[0;34m.\u001b[0m\u001b[0mdata\u001b[0m \u001b[0;32mif\u001b[0m \u001b[0missparse\u001b[0m\u001b[0;34m(\u001b[0m\u001b[0mX\u001b[0m\u001b[0;34m)\u001b[0m \u001b[0;32melse\u001b[0m \u001b[0mX\u001b[0m\u001b[0;34m)\u001b[0m \u001b[0;34m<\u001b[0m \u001b[0;36m0\u001b[0m\u001b[0;34m)\u001b[0m\u001b[0;34m:\u001b[0m\u001b[0;34m\u001b[0m\u001b[0;34m\u001b[0m\u001b[0m\n\u001b[0;32m--> 216\u001b[0;31m         \u001b[0;32mraise\u001b[0m \u001b[0mValueError\u001b[0m\u001b[0;34m(\u001b[0m\u001b[0;34m\"Input X must be non-negative.\"\u001b[0m\u001b[0;34m)\u001b[0m\u001b[0;34m\u001b[0m\u001b[0;34m\u001b[0m\u001b[0m\n\u001b[0m\u001b[1;32m    217\u001b[0m \u001b[0;34m\u001b[0m\u001b[0m\n\u001b[1;32m    218\u001b[0m     \u001b[0mY\u001b[0m \u001b[0;34m=\u001b[0m \u001b[0mLabelBinarizer\u001b[0m\u001b[0;34m(\u001b[0m\u001b[0;34m)\u001b[0m\u001b[0;34m.\u001b[0m\u001b[0mfit_transform\u001b[0m\u001b[0;34m(\u001b[0m\u001b[0my\u001b[0m\u001b[0;34m)\u001b[0m\u001b[0;34m\u001b[0m\u001b[0;34m\u001b[0m\u001b[0m\n",
            "\u001b[0;31mValueError\u001b[0m: Input X must be non-negative."
          ]
        }
      ]
    },
    {
      "cell_type": "markdown",
      "metadata": {
        "id": "Pn7jqSpU4RyF"
      },
      "source": [
        "#### 10.1 Selección por Random forest"
      ]
    },
    {
      "cell_type": "code",
      "metadata": {
        "id": "yZ8UPmszLYd6"
      },
      "source": [
        "# Seleccion por Random Forest\n",
        "from sklearn.ensemble import RandomForestClassifier # Paso01: Instancio el algoritmo\n",
        "\n",
        "forest = RandomForestClassifier()   # Paso02: Configuro el algoritmo\n",
        "forest.fit(X_train, y_train)        # Paso03: Ajuste el algoritmo\n",
        "importances = forest.feature_importances_ # Variables importantes"
      ],
      "execution_count": null,
      "outputs": []
    },
    {
      "cell_type": "code",
      "metadata": {
        "colab": {
          "base_uri": "https://localhost:8080/"
        },
        "id": "a2S9WU7D32GF",
        "outputId": "fa49cca7-5cca-4890-873c-4fe5ee73152c"
      },
      "source": [
        "importances"
      ],
      "execution_count": null,
      "outputs": [
        {
          "output_type": "execute_result",
          "data": {
            "text/plain": [
              "array([0.01724759, 0.01091461, 0.08692391, 0.02418075, 0.02095585,\n",
              "       0.03847753, 0.057916  , 0.06376957, 0.00684601, 0.00638567,\n",
              "       0.10436244, 0.05599873, 0.00410361, 0.01204951, 0.00766811,\n",
              "       0.04619328, 0.10315591, 0.09310041, 0.02376987, 0.10435027,\n",
              "       0.0914898 , 0.02014056])"
            ]
          },
          "metadata": {
            "tags": []
          },
          "execution_count": 22
        }
      ]
    },
    {
      "cell_type": "code",
      "metadata": {
        "colab": {
          "base_uri": "https://localhost:8080/",
          "height": 731
        },
        "id": "-Ou00dbz35Hu",
        "outputId": "cc2b2d40-ef7c-44b0-ac35-0d0232f4963c"
      },
      "source": [
        "# Seleccion por Random Forest\n",
        "TablaImportancia = pd.concat([pd.DataFrame({'Driver':list(X_train.columns)}),\n",
        "                              pd.DataFrame({'Importancia':list(forest.feature_importances_)})], axis = 1)\n",
        "ImportanciaVariables = TablaImportancia[['Driver','Importancia']].sort_values('Importancia', ascending = False).reset_index(drop = True)\n",
        "ImportanciaVariables"
      ],
      "execution_count": null,
      "outputs": [
        {
          "output_type": "execute_result",
          "data": {
            "text/html": [
              "<div>\n",
              "<style scoped>\n",
              "    .dataframe tbody tr th:only-of-type {\n",
              "        vertical-align: middle;\n",
              "    }\n",
              "\n",
              "    .dataframe tbody tr th {\n",
              "        vertical-align: top;\n",
              "    }\n",
              "\n",
              "    .dataframe thead th {\n",
              "        text-align: right;\n",
              "    }\n",
              "</style>\n",
              "<table border=\"1\" class=\"dataframe\">\n",
              "  <thead>\n",
              "    <tr style=\"text-align: right;\">\n",
              "      <th></th>\n",
              "      <th>Driver</th>\n",
              "      <th>Importancia</th>\n",
              "    </tr>\n",
              "  </thead>\n",
              "  <tbody>\n",
              "    <tr>\n",
              "      <th>0</th>\n",
              "      <td>LIQUIDEZDISPONIBLE</td>\n",
              "      <td>0.104362</td>\n",
              "    </tr>\n",
              "    <tr>\n",
              "      <th>1</th>\n",
              "      <td>MARGENOPERATIVO</td>\n",
              "      <td>0.104350</td>\n",
              "    </tr>\n",
              "    <tr>\n",
              "      <th>2</th>\n",
              "      <td>UTILIDADOPERATIVA</td>\n",
              "      <td>0.103156</td>\n",
              "    </tr>\n",
              "    <tr>\n",
              "      <th>3</th>\n",
              "      <td>VENTASNETAS</td>\n",
              "      <td>0.093100</td>\n",
              "    </tr>\n",
              "    <tr>\n",
              "      <th>4</th>\n",
              "      <td>CICLOFINANCIERO</td>\n",
              "      <td>0.091490</td>\n",
              "    </tr>\n",
              "    <tr>\n",
              "      <th>5</th>\n",
              "      <td>EDAD</td>\n",
              "      <td>0.086924</td>\n",
              "    </tr>\n",
              "    <tr>\n",
              "      <th>6</th>\n",
              "      <td>ANTIGUEDAD_DOMICILIO</td>\n",
              "      <td>0.063770</td>\n",
              "    </tr>\n",
              "    <tr>\n",
              "      <th>7</th>\n",
              "      <td>DPTO_DOMICILIO</td>\n",
              "      <td>0.057916</td>\n",
              "    </tr>\n",
              "    <tr>\n",
              "      <th>8</th>\n",
              "      <td>ACTIVIDAD_ECONOMICA</td>\n",
              "      <td>0.055999</td>\n",
              "    </tr>\n",
              "    <tr>\n",
              "      <th>9</th>\n",
              "      <td>ANTIGUEDAD_LABORAL</td>\n",
              "      <td>0.046193</td>\n",
              "    </tr>\n",
              "    <tr>\n",
              "      <th>10</th>\n",
              "      <td>NUMERO_DEPENDIENTES</td>\n",
              "      <td>0.038478</td>\n",
              "    </tr>\n",
              "    <tr>\n",
              "      <th>11</th>\n",
              "      <td>GRADO_INSTRUCCION</td>\n",
              "      <td>0.024181</td>\n",
              "    </tr>\n",
              "    <tr>\n",
              "      <th>12</th>\n",
              "      <td>ENDEUDAMIENTOPATRIMONIAL</td>\n",
              "      <td>0.023770</td>\n",
              "    </tr>\n",
              "    <tr>\n",
              "      <th>13</th>\n",
              "      <td>CONDICION_VIVIENDA</td>\n",
              "      <td>0.020956</td>\n",
              "    </tr>\n",
              "    <tr>\n",
              "      <th>14</th>\n",
              "      <td>SEGMENTO</td>\n",
              "      <td>0.020141</td>\n",
              "    </tr>\n",
              "    <tr>\n",
              "      <th>15</th>\n",
              "      <td>GENERO</td>\n",
              "      <td>0.017248</td>\n",
              "    </tr>\n",
              "    <tr>\n",
              "      <th>16</th>\n",
              "      <td>T_D_AC_VEN_MA30_3M</td>\n",
              "      <td>0.012050</td>\n",
              "    </tr>\n",
              "    <tr>\n",
              "      <th>17</th>\n",
              "      <td>ESTADO_CIVIL</td>\n",
              "      <td>0.010915</td>\n",
              "    </tr>\n",
              "    <tr>\n",
              "      <th>18</th>\n",
              "      <td>RT_N_ENT_M0_3M</td>\n",
              "      <td>0.007668</td>\n",
              "    </tr>\n",
              "    <tr>\n",
              "      <th>19</th>\n",
              "      <td>TIPO_TRABAJADOR</td>\n",
              "      <td>0.006846</td>\n",
              "    </tr>\n",
              "    <tr>\n",
              "      <th>20</th>\n",
              "      <td>TIENE_VEHIVULO</td>\n",
              "      <td>0.006386</td>\n",
              "    </tr>\n",
              "    <tr>\n",
              "      <th>21</th>\n",
              "      <td>DEUDAS_NEGATIVAS</td>\n",
              "      <td>0.004104</td>\n",
              "    </tr>\n",
              "  </tbody>\n",
              "</table>\n",
              "</div>"
            ],
            "text/plain": [
              "                      Driver  Importancia\n",
              "0         LIQUIDEZDISPONIBLE     0.104362\n",
              "1            MARGENOPERATIVO     0.104350\n",
              "2          UTILIDADOPERATIVA     0.103156\n",
              "3                VENTASNETAS     0.093100\n",
              "4            CICLOFINANCIERO     0.091490\n",
              "5                       EDAD     0.086924\n",
              "6       ANTIGUEDAD_DOMICILIO     0.063770\n",
              "7             DPTO_DOMICILIO     0.057916\n",
              "8        ACTIVIDAD_ECONOMICA     0.055999\n",
              "9         ANTIGUEDAD_LABORAL     0.046193\n",
              "10       NUMERO_DEPENDIENTES     0.038478\n",
              "11         GRADO_INSTRUCCION     0.024181\n",
              "12  ENDEUDAMIENTOPATRIMONIAL     0.023770\n",
              "13        CONDICION_VIVIENDA     0.020956\n",
              "14                  SEGMENTO     0.020141\n",
              "15                    GENERO     0.017248\n",
              "16        T_D_AC_VEN_MA30_3M     0.012050\n",
              "17              ESTADO_CIVIL     0.010915\n",
              "18            RT_N_ENT_M0_3M     0.007668\n",
              "19           TIPO_TRABAJADOR     0.006846\n",
              "20            TIENE_VEHIVULO     0.006386\n",
              "21          DEUDAS_NEGATIVAS     0.004104"
            ]
          },
          "metadata": {
            "tags": []
          },
          "execution_count": 23
        }
      ]
    },
    {
      "cell_type": "markdown",
      "metadata": {
        "id": "6T8hodRp4YPq"
      },
      "source": [
        "#### 10.2 Selección por Boruta"
      ]
    },
    {
      "cell_type": "code",
      "metadata": {
        "colab": {
          "base_uri": "https://localhost:8080/"
        },
        "id": "0-qzlSdJ3_mT",
        "outputId": "5e6d3c5c-10d1-4521-c4f2-d4de4c989a9a"
      },
      "source": [
        "# Instalamos Boruta\n",
        "! pip install Boruta"
      ],
      "execution_count": null,
      "outputs": [
        {
          "output_type": "stream",
          "text": [
            "Collecting Boruta\n",
            "\u001b[?25l  Downloading https://files.pythonhosted.org/packages/b2/11/583f4eac99d802c79af9217e1eff56027742a69e6c866b295cce6a5a8fc2/Boruta-0.3-py3-none-any.whl (56kB)\n",
            "\r\u001b[K     |█████▉                          | 10kB 14.8MB/s eta 0:00:01\r\u001b[K     |███████████▋                    | 20kB 19.6MB/s eta 0:00:01\r\u001b[K     |█████████████████▍              | 30kB 22.6MB/s eta 0:00:01\r\u001b[K     |███████████████████████▏        | 40kB 24.5MB/s eta 0:00:01\r\u001b[K     |█████████████████████████████   | 51kB 26.8MB/s eta 0:00:01\r\u001b[K     |████████████████████████████████| 61kB 7.5MB/s \n",
            "\u001b[?25hRequirement already satisfied: numpy>=1.10.4 in /usr/local/lib/python3.7/dist-packages (from Boruta) (1.19.5)\n",
            "Requirement already satisfied: scipy>=0.17.0 in /usr/local/lib/python3.7/dist-packages (from Boruta) (1.4.1)\n",
            "Requirement already satisfied: scikit-learn>=0.17.1 in /usr/local/lib/python3.7/dist-packages (from Boruta) (0.22.2.post1)\n",
            "Requirement already satisfied: joblib>=0.11 in /usr/local/lib/python3.7/dist-packages (from scikit-learn>=0.17.1->Boruta) (1.0.1)\n",
            "Installing collected packages: Boruta\n",
            "Successfully installed Boruta-0.3\n"
          ],
          "name": "stdout"
        }
      ]
    },
    {
      "cell_type": "code",
      "metadata": {
        "colab": {
          "base_uri": "https://localhost:8080/"
        },
        "id": "XjpOGOV_4DiR",
        "outputId": "156c166a-cc9d-440c-8c8a-3153af792ca2"
      },
      "source": [
        "# Seleccion Boruta (Permutaciones de arboles)\n",
        "from sklearn.ensemble import RandomForestClassifier\n",
        "from boruta import BorutaPy\n",
        "\n",
        "rfc = RandomForestClassifier()\n",
        "boruta_selector = BorutaPy(rfc, n_estimators='auto',verbose=2)\n",
        "\n",
        "x=X_train.values\n",
        "y=y_train.values\n",
        "\n",
        "boruta_selector.fit(x,y)\n",
        "\n",
        "print(\"==============BORUTA==============\")\n",
        "print (boruta_selector.n_features_)"
      ],
      "execution_count": null,
      "outputs": [
        {
          "output_type": "stream",
          "text": [
            "Iteration: \t1 / 100\n",
            "Confirmed: \t0\n",
            "Tentative: \t22\n",
            "Rejected: \t0\n",
            "Iteration: \t2 / 100\n",
            "Confirmed: \t0\n",
            "Tentative: \t22\n",
            "Rejected: \t0\n",
            "Iteration: \t3 / 100\n",
            "Confirmed: \t0\n",
            "Tentative: \t22\n",
            "Rejected: \t0\n",
            "Iteration: \t4 / 100\n",
            "Confirmed: \t0\n",
            "Tentative: \t22\n",
            "Rejected: \t0\n",
            "Iteration: \t5 / 100\n",
            "Confirmed: \t0\n",
            "Tentative: \t22\n",
            "Rejected: \t0\n",
            "Iteration: \t6 / 100\n",
            "Confirmed: \t0\n",
            "Tentative: \t22\n",
            "Rejected: \t0\n",
            "Iteration: \t7 / 100\n",
            "Confirmed: \t0\n",
            "Tentative: \t22\n",
            "Rejected: \t0\n",
            "Iteration: \t8 / 100\n",
            "Confirmed: \t0\n",
            "Tentative: \t0\n",
            "Rejected: \t22\n",
            "\n",
            "\n",
            "BorutaPy finished running.\n",
            "\n",
            "Iteration: \t9 / 100\n",
            "Confirmed: \t0\n",
            "Tentative: \t0\n",
            "Rejected: \t22\n",
            "==============BORUTA==============\n",
            "0\n"
          ],
          "name": "stdout"
        }
      ]
    },
    {
      "cell_type": "code",
      "metadata": {
        "id": "wyxztiaF4em9"
      },
      "source": [
        "# Observamos cual de las variables el algoritmo eligio\n",
        "X_train_Bor = X_train.columns[boruta_selector.support_]"
      ],
      "execution_count": null,
      "outputs": []
    },
    {
      "cell_type": "code",
      "metadata": {
        "id": "WOszAm2vaA5F",
        "outputId": "7318a4c8-b502-45d1-ef58-863bdda9fdfd",
        "colab": {
          "base_uri": "https://localhost:8080/",
          "height": 224
        }
      },
      "source": [
        "X_train.head()"
      ],
      "execution_count": null,
      "outputs": [
        {
          "output_type": "execute_result",
          "data": {
            "text/html": [
              "<div>\n",
              "<style scoped>\n",
              "    .dataframe tbody tr th:only-of-type {\n",
              "        vertical-align: middle;\n",
              "    }\n",
              "\n",
              "    .dataframe tbody tr th {\n",
              "        vertical-align: top;\n",
              "    }\n",
              "\n",
              "    .dataframe thead th {\n",
              "        text-align: right;\n",
              "    }\n",
              "</style>\n",
              "<table border=\"1\" class=\"dataframe\">\n",
              "  <thead>\n",
              "    <tr style=\"text-align: right;\">\n",
              "      <th></th>\n",
              "      <th>GENERO</th>\n",
              "      <th>ESTADO_CIVIL</th>\n",
              "      <th>EDAD</th>\n",
              "      <th>GRADO_INSTRUCCION</th>\n",
              "      <th>CONDICION_VIVIENDA</th>\n",
              "      <th>NUMERO_DEPENDIENTES</th>\n",
              "      <th>DPTO_DOMICILIO</th>\n",
              "      <th>ANTIGUEDAD_DOMICILIO</th>\n",
              "      <th>TIPO_TRABAJADOR</th>\n",
              "      <th>TIENE_VEHIVULO</th>\n",
              "      <th>LIQUIDEZDISPONIBLE</th>\n",
              "      <th>ACTIVIDAD_ECONOMICA</th>\n",
              "      <th>DEUDAS_NEGATIVAS</th>\n",
              "      <th>T_D_AC_VEN_MA30_3M</th>\n",
              "      <th>RT_N_ENT_M0_3M</th>\n",
              "      <th>ANTIGUEDAD_LABORAL</th>\n",
              "      <th>UTILIDADOPERATIVA</th>\n",
              "      <th>VENTASNETAS</th>\n",
              "      <th>ENDEUDAMIENTOPATRIMONIAL</th>\n",
              "      <th>MARGENOPERATIVO</th>\n",
              "      <th>CICLOFINANCIERO</th>\n",
              "      <th>SEGMENTO</th>\n",
              "    </tr>\n",
              "  </thead>\n",
              "  <tbody>\n",
              "    <tr>\n",
              "      <th>189</th>\n",
              "      <td>1</td>\n",
              "      <td>0</td>\n",
              "      <td>35</td>\n",
              "      <td>0</td>\n",
              "      <td>2</td>\n",
              "      <td>2</td>\n",
              "      <td>14</td>\n",
              "      <td>16</td>\n",
              "      <td>1</td>\n",
              "      <td>0</td>\n",
              "      <td>2100.00</td>\n",
              "      <td>10</td>\n",
              "      <td>0</td>\n",
              "      <td>0</td>\n",
              "      <td>1</td>\n",
              "      <td>5</td>\n",
              "      <td>2480.00</td>\n",
              "      <td>5016.0</td>\n",
              "      <td>0.22</td>\n",
              "      <td>3.10</td>\n",
              "      <td>32.00</td>\n",
              "      <td>3</td>\n",
              "    </tr>\n",
              "    <tr>\n",
              "      <th>3390</th>\n",
              "      <td>0</td>\n",
              "      <td>0</td>\n",
              "      <td>59</td>\n",
              "      <td>0</td>\n",
              "      <td>2</td>\n",
              "      <td>2</td>\n",
              "      <td>13</td>\n",
              "      <td>11</td>\n",
              "      <td>1</td>\n",
              "      <td>0</td>\n",
              "      <td>437.55</td>\n",
              "      <td>24</td>\n",
              "      <td>0</td>\n",
              "      <td>0</td>\n",
              "      <td>0</td>\n",
              "      <td>5</td>\n",
              "      <td>1427.55</td>\n",
              "      <td>3100.0</td>\n",
              "      <td>0.22</td>\n",
              "      <td>46.05</td>\n",
              "      <td>43.40</td>\n",
              "      <td>2</td>\n",
              "    </tr>\n",
              "    <tr>\n",
              "      <th>5210</th>\n",
              "      <td>0</td>\n",
              "      <td>2</td>\n",
              "      <td>47</td>\n",
              "      <td>0</td>\n",
              "      <td>0</td>\n",
              "      <td>0</td>\n",
              "      <td>12</td>\n",
              "      <td>8</td>\n",
              "      <td>1</td>\n",
              "      <td>0</td>\n",
              "      <td>477.00</td>\n",
              "      <td>2</td>\n",
              "      <td>0</td>\n",
              "      <td>0</td>\n",
              "      <td>0</td>\n",
              "      <td>9</td>\n",
              "      <td>842.00</td>\n",
              "      <td>4080.0</td>\n",
              "      <td>0.22</td>\n",
              "      <td>20.63</td>\n",
              "      <td>31.61</td>\n",
              "      <td>3</td>\n",
              "    </tr>\n",
              "    <tr>\n",
              "      <th>5946</th>\n",
              "      <td>0</td>\n",
              "      <td>0</td>\n",
              "      <td>43</td>\n",
              "      <td>3</td>\n",
              "      <td>1</td>\n",
              "      <td>0</td>\n",
              "      <td>14</td>\n",
              "      <td>16</td>\n",
              "      <td>1</td>\n",
              "      <td>0</td>\n",
              "      <td>2075.00</td>\n",
              "      <td>7</td>\n",
              "      <td>0</td>\n",
              "      <td>1</td>\n",
              "      <td>0</td>\n",
              "      <td>7</td>\n",
              "      <td>2590.00</td>\n",
              "      <td>19600.0</td>\n",
              "      <td>0.22</td>\n",
              "      <td>13.21</td>\n",
              "      <td>17.49</td>\n",
              "      <td>3</td>\n",
              "    </tr>\n",
              "    <tr>\n",
              "      <th>1395</th>\n",
              "      <td>0</td>\n",
              "      <td>2</td>\n",
              "      <td>23</td>\n",
              "      <td>3</td>\n",
              "      <td>1</td>\n",
              "      <td>0</td>\n",
              "      <td>10</td>\n",
              "      <td>5</td>\n",
              "      <td>1</td>\n",
              "      <td>0</td>\n",
              "      <td>453.60</td>\n",
              "      <td>24</td>\n",
              "      <td>0</td>\n",
              "      <td>1</td>\n",
              "      <td>0</td>\n",
              "      <td>5</td>\n",
              "      <td>1198.60</td>\n",
              "      <td>7500.0</td>\n",
              "      <td>0.22</td>\n",
              "      <td>37.93</td>\n",
              "      <td>68.80</td>\n",
              "      <td>2</td>\n",
              "    </tr>\n",
              "  </tbody>\n",
              "</table>\n",
              "</div>"
            ],
            "text/plain": [
              "      GENERO  ESTADO_CIVIL  EDAD  ...  MARGENOPERATIVO  CICLOFINANCIERO  SEGMENTO\n",
              "189        1             0    35  ...             3.10            32.00         3\n",
              "3390       0             0    59  ...            46.05            43.40         2\n",
              "5210       0             2    47  ...            20.63            31.61         3\n",
              "5946       0             0    43  ...            13.21            17.49         3\n",
              "1395       0             2    23  ...            37.93            68.80         2\n",
              "\n",
              "[5 rows x 22 columns]"
            ]
          },
          "metadata": {
            "tags": []
          },
          "execution_count": 28
        }
      ]
    },
    {
      "cell_type": "code",
      "metadata": {
        "id": "5hKGDs2w4hKj",
        "colab": {
          "base_uri": "https://localhost:8080/"
        },
        "outputId": "da50bfce-08d3-46d1-8fba-bffce9b81e83"
      },
      "source": [
        "X_train_Bor"
      ],
      "execution_count": null,
      "outputs": [
        {
          "output_type": "execute_result",
          "data": {
            "text/plain": [
              "Index([], dtype='object')"
            ]
          },
          "metadata": {
            "tags": []
          },
          "execution_count": 27
        }
      ]
    },
    {
      "cell_type": "code",
      "metadata": {
        "id": "HQlWmeBt4i7-"
      },
      "source": [
        "# Si deseamos , podemos elegir las variables mas importantes\n",
        "X_train_subset =X_train[[\"Credit_History\",\"Cuota_Ingreso1\",\"Cuota_Ingreso_Hijo\",\"LoanAmount\"]]"
      ],
      "execution_count": null,
      "outputs": []
    },
    {
      "cell_type": "code",
      "metadata": {
        "id": "AwY2mAoL4kfI"
      },
      "source": [
        "X_train_subset.head(3)"
      ],
      "execution_count": null,
      "outputs": []
    },
    {
      "cell_type": "code",
      "metadata": {
        "id": "VvuVJR4l4lDF"
      },
      "source": [],
      "execution_count": null,
      "outputs": []
    }
  ]
}